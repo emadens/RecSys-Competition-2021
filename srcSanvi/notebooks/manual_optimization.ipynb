{
 "cells": [
  {
   "cell_type": "code",
   "execution_count": 4,
   "metadata": {
    "collapsed": true
   },
   "outputs": [
    {
     "name": "stdout",
     "output_type": "stream",
     "text": [
      "Warning: 79 (0.99 %) of 7947 users have no train items\n",
      "Warning: 2271 (28.58 %) of 7947 users have no sampled items\n",
      "Warning: 68 (0.86 %) of 7947 users have no train items\n",
      "Warning: 2347 (29.53 %) of 7947 users have no sampled items\n",
      "Warning: 82 (1.03 %) of 7947 users have no train items\n",
      "Warning: 2327 (29.28 %) of 7947 users have no sampled items\n",
      "Warning: 62 (0.78 %) of 7947 users have no train items\n",
      "Warning: 2270 (28.56 %) of 7947 users have no sampled items\n",
      "Warning: 60 (0.76 %) of 7947 users have no train items\n",
      "Warning: 2313 (29.11 %) of 7947 users have no sampled items\n"
     ]
    }
   ],
   "source": [
    "from src.Base.Evaluation.K_Fold_Evaluator import K_Fold_Evaluator_MAP\n",
    "from src.Utils.ICM_preprocessing import *\n",
    "from src.Utils.load_ICM import load_ICM\n",
    "from src.Utils.load_URM import load_URM\n",
    "import sklearn\n",
    "\n",
    "URM_all = load_URM(\"in/data_train.csv\")\n",
    "ICM_all = load_ICM(\"in/data_ICM_title_abstract.csv\")\n",
    "from src.Data_manager.split_functions.split_train_validation_random_holdout import \\\n",
    "    split_train_in_two_percentage_global_sample\n",
    "\n",
    "URMs_train = []\n",
    "URMs_validation = []\n",
    "\n",
    "for k in range(5):\n",
    "    URM_train, URM_validation = split_train_in_two_percentage_global_sample(URM_all, train_percentage=0.80)\n",
    "    URMs_train.append(URM_train)\n",
    "    URMs_validation.append(URM_validation)\n",
    "\n",
    "evaluator_validation = K_Fold_Evaluator_MAP(URMs_validation, cutoff_list=[10], verbose=False)\n",
    "\n",
    "ICMs_combined = []\n",
    "for URM in URMs_train:\n",
    "    ICMs_combined.append(combine(ICM=ICM_all, URM=URM))\n",
    "\n",
    "from src.Hybrid.GeneralizedSimilarityMergedHybridRecommender import GeneralizedSimilarityMergedHybridRecommender\n",
    "from src.Hybrid.MergedHybridRecommender import MergedHybridRecommender\n",
    "from src.GraphBased.P3alphaRecommender import P3alphaRecommender\n",
    "from src.GraphBased.RP3betaCBFRecommender import RP3betaCBFRecommender\n",
    "from src.KNN.ItemKNNCFRecommender import ItemKNNCFRecommender\n",
    "from src.MatrixFactorization.PureSVDRecommender import PureSVDItemRecommender\n",
    "from src.SLIM_BPR.Cython.SLIM_BPR_Cython import SLIM_BPR_Cython"
   ]
  },
  {
   "cell_type": "code",
   "execution_count": 5,
   "outputs": [
    {
     "name": "stdout",
     "output_type": "stream",
     "text": [
      "MAP = 0.05938172002584221\n"
     ]
    }
   ],
   "source": [
    "p3alpha_recommenders = []\n",
    "for index in range(len(URMs_train)):\n",
    "\n",
    "    p3alpha_recommenders.append(\n",
    "        P3alphaRecommender(\n",
    "            URM_train=URMs_train[index],\n",
    "            verbose=False\n",
    "        )\n",
    "    )\n",
    "\n",
    "    p3alpha_recommenders[index].fit(\n",
    "        topK=int(212.8832860130684),\n",
    "        alpha=0.4729294763382114,\n",
    "        implicit=True\n",
    "    )\n",
    "\n",
    "result = evaluator_validation.evaluateRecommender(p3alpha_recommenders)\n",
    "print('MAP = {}'.format(sum(result) / len(result)))"
   ],
   "metadata": {
    "collapsed": false,
    "pycharm": {
     "name": "#%%\n"
    }
   }
  },
  {
   "cell_type": "code",
   "execution_count": 6,
   "outputs": [
    {
     "name": "stdout",
     "output_type": "stream",
     "text": [
      "MAP = 0.07254691289113213\n"
     ]
    }
   ],
   "source": [
    "rp3betaCombined_recommenders = []\n",
    "for index in range(len(URMs_train)):\n",
    "    rp3betaCombined_recommenders.append(\n",
    "        RP3betaCBFRecommender(\n",
    "            URM_train=URMs_train[index],\n",
    "            ICM_train=ICMs_combined[index],\n",
    "            verbose=False\n",
    "        )\n",
    "    )\n",
    "\n",
    "    rp3betaCombined_recommenders[index].fit(\n",
    "        topK=int(525.3588205773788),\n",
    "        alpha=0.42658191175355076,\n",
    "        beta=0.2284685880641364,\n",
    "        implicit=False\n",
    "    )\n",
    "\n",
    "result = evaluator_validation.evaluateRecommender(rp3betaCombined_recommenders)\n",
    "print('MAP = {}'.format(sum(result) / len(result)))"
   ],
   "metadata": {
    "collapsed": false,
    "pycharm": {
     "name": "#%%\n"
    }
   }
  },
  {
   "cell_type": "code",
   "execution_count": 7,
   "outputs": [
    {
     "name": "stdout",
     "output_type": "stream",
     "text": [
      "MAP = 0.038662950572284374\n"
     ]
    }
   ],
   "source": [
    "rp3betaCBF_recommenders = []\n",
    "for index in range(len(URMs_train)):\n",
    "\n",
    "    rp3betaCBF_recommenders.append(\n",
    "        RP3betaCBFRecommender(\n",
    "            URM_train=URMs_train[index],\n",
    "            ICM_train=ICM_all,\n",
    "            verbose=False\n",
    "        )\n",
    "    )\n",
    "\n",
    "    rp3betaCBF_recommenders[index].fit(\n",
    "        topK=int(58.16144182493173),\n",
    "        alpha=0.26520214286626453,\n",
    "        beta=0.36456352256640157,\n",
    "        implicit=False\n",
    "    )\n",
    "\n",
    "result = evaluator_validation.evaluateRecommender(rp3betaCBF_recommenders)\n",
    "print('MAP = {}'.format(sum(result) / len(result)))"
   ],
   "metadata": {
    "collapsed": false,
    "pycharm": {
     "name": "#%%\n"
    }
   }
  },
  {
   "cell_type": "code",
   "execution_count": 8,
   "outputs": [
    {
     "name": "stdout",
     "output_type": "stream",
     "text": [
      "Similarity column 25975 ( 100 % ), 7373.20 column/sec, elapsed time 0.06 min\n",
      "Similarity column 25975 ( 100 % ), 7438.75 column/sec, elapsed time 0.06 min\n",
      "Similarity column 25975 ( 100 % ), 7298.56 column/sec, elapsed time 0.06 min\n",
      "Similarity column 25975 ( 100 % ), 7389.99 column/sec, elapsed time 0.06 min\n",
      "Similarity column 25975 ( 100 % ), 7151.78 column/sec, elapsed time 0.06 min\n",
      "MAP = 0.0496071118989157\n"
     ]
    }
   ],
   "source": [
    "itemKNN_recommenders = []\n",
    "for index in range(len(URMs_train)):\n",
    "    itemKNN_recommenders.append(\n",
    "        ItemKNNCFRecommender(\n",
    "            URM_train=URMs_train[index],\n",
    "            verbose=False\n",
    "        )\n",
    "    )\n",
    "\n",
    "    itemKNN_recommenders[index].fit(\n",
    "        topK=100,\n",
    "        shrink=50\n",
    "    )\n",
    "\n",
    "result = evaluator_validation.evaluateRecommender(itemKNN_recommenders)\n",
    "print('MAP = {}'.format(sum(result) / len(result)))"
   ],
   "metadata": {
    "collapsed": false,
    "pycharm": {
     "name": "#%%\n"
    }
   }
  },
  {
   "cell_type": "code",
   "execution_count": 9,
   "outputs": [
    {
     "name": "stdout",
     "output_type": "stream",
     "text": [
      "MAP = 0.03421253920358079\n"
     ]
    }
   ],
   "source": [
    "pureSVD_recommenders = []\n",
    "for index in range(len(URMs_train)):\n",
    "    pureSVD_recommenders.append(\n",
    "        PureSVDItemRecommender(\n",
    "            URM_train=URMs_train[index],\n",
    "            verbose=False\n",
    "        )\n",
    "    )\n",
    "\n",
    "    pureSVD_recommenders[index].fit(\n",
    "        num_factors=772,\n",
    "        topK= 599\n",
    "    )\n",
    "\n",
    "\n",
    "result = evaluator_validation.evaluateRecommender(pureSVD_recommenders)\n",
    "print('MAP = {}'.format(sum(result) / len(result)))"
   ],
   "metadata": {
    "collapsed": false,
    "pycharm": {
     "name": "#%%\n"
    }
   }
  },
  {
   "cell_type": "code",
   "execution_count": 41,
   "outputs": [
    {
     "name": "stdout",
     "output_type": "stream",
     "text": [
      "SLIM_BPR_Recommender: Epoch 1 of 39.54. Elapsed time 0.68 sec\n",
      "SLIM_BPR_Recommender: Epoch 2 of 39.54. Elapsed time 2.08 sec\n",
      "SLIM_BPR_Recommender: Epoch 3 of 39.54. Elapsed time 3.96 sec\n",
      "SLIM_BPR_Recommender: Epoch 4 of 39.54. Elapsed time 6.49 sec\n",
      "SLIM_BPR_Recommender: Epoch 5 of 39.54. Elapsed time 10.04 sec\n",
      "SLIM_BPR_Recommender: Epoch 6 of 39.54. Elapsed time 14.54 sec\n",
      "SLIM_BPR_Recommender: Epoch 7 of 39.54. Elapsed time 19.86 sec\n",
      "SLIM_BPR_Recommender: Epoch 8 of 39.54. Elapsed time 25.95 sec\n",
      "SLIM_BPR_Recommender: Epoch 9 of 39.54. Elapsed time 32.82 sec\n",
      "SLIM_BPR_Recommender: Epoch 10 of 39.54. Elapsed time 40.86 sec\n",
      "SLIM_BPR_Recommender: Epoch 11 of 39.54. Elapsed time 49.95 sec\n",
      "SLIM_BPR_Recommender: Epoch 12 of 39.54. Elapsed time 1.00 min\n",
      "SLIM_BPR_Recommender: Epoch 13 of 39.54. Elapsed time 1.19 min\n",
      "SLIM_BPR_Recommender: Epoch 14 of 39.54. Elapsed time 1.41 min\n",
      "SLIM_BPR_Recommender: Epoch 15 of 39.54. Elapsed time 1.65 min\n",
      "SLIM_BPR_Recommender: Epoch 16 of 39.54. Elapsed time 1.96 min\n",
      "SLIM_BPR_Recommender: Epoch 17 of 39.54. Elapsed time 2.31 min\n",
      "SLIM_BPR_Recommender: Epoch 18 of 39.54. Elapsed time 2.69 min\n",
      "SLIM_BPR_Recommender: Epoch 19 of 39.54. Elapsed time 3.03 min\n",
      "SLIM_BPR_Recommender: Epoch 20 of 39.54. Elapsed time 3.39 min\n",
      "SLIM_BPR_Recommender: Epoch 21 of 39.54. Elapsed time 3.78 min\n",
      "SLIM_BPR_Recommender: Epoch 22 of 39.54. Elapsed time 4.19 min\n",
      "SLIM_BPR_Recommender: Epoch 23 of 39.54. Elapsed time 4.63 min\n",
      "SLIM_BPR_Recommender: Epoch 24 of 39.54. Elapsed time 5.08 min\n",
      "SLIM_BPR_Recommender: Epoch 25 of 39.54. Elapsed time 5.57 min\n",
      "SLIM_BPR_Recommender: Epoch 26 of 39.54. Elapsed time 6.07 min\n",
      "SLIM_BPR_Recommender: Epoch 27 of 39.54. Elapsed time 6.60 min\n",
      "SLIM_BPR_Recommender: Epoch 28 of 39.54. Elapsed time 7.15 min\n",
      "SLIM_BPR_Recommender: Epoch 29 of 39.54. Elapsed time 7.73 min\n",
      "SLIM_BPR_Recommender: Epoch 30 of 39.54. Elapsed time 8.32 min\n",
      "SLIM_BPR_Recommender: Epoch 31 of 39.54. Elapsed time 8.93 min\n",
      "SLIM_BPR_Recommender: Epoch 32 of 39.54. Elapsed time 9.57 min\n",
      "SLIM_BPR_Recommender: Epoch 33 of 39.54. Elapsed time 10.22 min\n",
      "SLIM_BPR_Recommender: Epoch 34 of 39.54. Elapsed time 10.89 min\n",
      "SLIM_BPR_Recommender: Epoch 35 of 39.54. Elapsed time 11.58 min\n",
      "SLIM_BPR_Recommender: Epoch 36 of 39.54. Elapsed time 12.29 min\n",
      "SLIM_BPR_Recommender: Epoch 37 of 39.54. Elapsed time 13.01 min\n",
      "SLIM_BPR_Recommender: Epoch 38 of 39.54. Elapsed time 13.75 min\n",
      "SLIM_BPR_Recommender: Epoch 39 of 39.54. Elapsed time 14.50 min\n",
      "SLIM_BPR_Recommender: Epoch 40 of 39.54. Elapsed time 15.26 min\n",
      "SLIM_BPR_Recommender: Terminating at epoch 40. Elapsed time 15.51 min\n",
      "Deallocating Cython objects\n",
      "SLIM_BPR_Recommender: Epoch 1 of 39.54. Elapsed time 0.53 sec\n",
      "SLIM_BPR_Recommender: Epoch 2 of 39.54. Elapsed time 1.67 sec\n",
      "SLIM_BPR_Recommender: Epoch 3 of 39.54. Elapsed time 3.48 sec\n",
      "SLIM_BPR_Recommender: Epoch 4 of 39.54. Elapsed time 5.98 sec\n",
      "SLIM_BPR_Recommender: Epoch 5 of 39.54. Elapsed time 9.25 sec\n",
      "SLIM_BPR_Recommender: Epoch 6 of 39.54. Elapsed time 13.37 sec\n",
      "SLIM_BPR_Recommender: Epoch 7 of 39.54. Elapsed time 18.33 sec\n",
      "SLIM_BPR_Recommender: Epoch 8 of 39.54. Elapsed time 24.33 sec\n",
      "SLIM_BPR_Recommender: Epoch 9 of 39.54. Elapsed time 31.44 sec\n",
      "SLIM_BPR_Recommender: Epoch 10 of 39.54. Elapsed time 39.86 sec\n",
      "SLIM_BPR_Recommender: Epoch 11 of 39.54. Elapsed time 49.49 sec\n",
      "SLIM_BPR_Recommender: Epoch 12 of 39.54. Elapsed time 1.01 min\n",
      "SLIM_BPR_Recommender: Epoch 13 of 39.54. Elapsed time 1.20 min\n",
      "SLIM_BPR_Recommender: Epoch 14 of 39.54. Elapsed time 1.42 min\n",
      "SLIM_BPR_Recommender: Epoch 15 of 39.54. Elapsed time 1.66 min\n",
      "SLIM_BPR_Recommender: Epoch 16 of 39.54. Elapsed time 1.93 min\n",
      "SLIM_BPR_Recommender: Epoch 17 of 39.54. Elapsed time 2.23 min\n",
      "SLIM_BPR_Recommender: Epoch 18 of 39.54. Elapsed time 2.61 min\n",
      "SLIM_BPR_Recommender: Epoch 19 of 39.54. Elapsed time 3.02 min\n",
      "SLIM_BPR_Recommender: Epoch 20 of 39.54. Elapsed time 3.42 min\n",
      "SLIM_BPR_Recommender: Epoch 21 of 39.54. Elapsed time 3.81 min\n",
      "SLIM_BPR_Recommender: Epoch 22 of 39.54. Elapsed time 4.23 min\n",
      "SLIM_BPR_Recommender: Epoch 23 of 39.54. Elapsed time 4.67 min\n",
      "SLIM_BPR_Recommender: Epoch 24 of 39.54. Elapsed time 5.13 min\n",
      "SLIM_BPR_Recommender: Epoch 25 of 39.54. Elapsed time 5.62 min\n",
      "SLIM_BPR_Recommender: Epoch 26 of 39.54. Elapsed time 6.13 min\n",
      "SLIM_BPR_Recommender: Epoch 27 of 39.54. Elapsed time 6.66 min\n",
      "SLIM_BPR_Recommender: Epoch 28 of 39.54. Elapsed time 7.21 min\n",
      "SLIM_BPR_Recommender: Epoch 29 of 39.54. Elapsed time 7.79 min\n",
      "SLIM_BPR_Recommender: Epoch 30 of 39.54. Elapsed time 8.38 min\n",
      "SLIM_BPR_Recommender: Epoch 31 of 39.54. Elapsed time 8.99 min\n",
      "SLIM_BPR_Recommender: Epoch 32 of 39.54. Elapsed time 9.62 min\n",
      "SLIM_BPR_Recommender: Epoch 33 of 39.54. Elapsed time 10.27 min\n",
      "SLIM_BPR_Recommender: Epoch 34 of 39.54. Elapsed time 10.94 min\n",
      "SLIM_BPR_Recommender: Epoch 35 of 39.54. Elapsed time 11.63 min\n",
      "SLIM_BPR_Recommender: Epoch 36 of 39.54. Elapsed time 12.33 min\n",
      "SLIM_BPR_Recommender: Epoch 37 of 39.54. Elapsed time 13.06 min\n",
      "SLIM_BPR_Recommender: Epoch 38 of 39.54. Elapsed time 13.79 min\n",
      "SLIM_BPR_Recommender: Epoch 39 of 39.54. Elapsed time 14.54 min\n",
      "SLIM_BPR_Recommender: Epoch 40 of 39.54. Elapsed time 15.31 min\n",
      "SLIM_BPR_Recommender: Terminating at epoch 40. Elapsed time 15.57 min\n",
      "Deallocating Cython objects\n",
      "SLIM_BPR_Recommender: Epoch 1 of 39.54. Elapsed time 0.67 sec\n",
      "SLIM_BPR_Recommender: Epoch 2 of 39.54. Elapsed time 1.93 sec\n",
      "SLIM_BPR_Recommender: Epoch 3 of 39.54. Elapsed time 3.84 sec\n",
      "SLIM_BPR_Recommender: Epoch 4 of 39.54. Elapsed time 6.36 sec\n",
      "SLIM_BPR_Recommender: Epoch 5 of 39.54. Elapsed time 9.58 sec\n",
      "SLIM_BPR_Recommender: Epoch 6 of 39.54. Elapsed time 13.67 sec\n",
      "SLIM_BPR_Recommender: Epoch 7 of 39.54. Elapsed time 18.59 sec\n",
      "SLIM_BPR_Recommender: Epoch 8 of 39.54. Elapsed time 24.29 sec\n",
      "SLIM_BPR_Recommender: Epoch 9 of 39.54. Elapsed time 31.08 sec\n",
      "SLIM_BPR_Recommender: Epoch 10 of 39.54. Elapsed time 38.80 sec\n",
      "SLIM_BPR_Recommender: Epoch 11 of 39.54. Elapsed time 47.72 sec\n",
      "SLIM_BPR_Recommender: Epoch 12 of 39.54. Elapsed time 58.01 sec\n",
      "SLIM_BPR_Recommender: Epoch 13 of 39.54. Elapsed time 1.16 min\n",
      "SLIM_BPR_Recommender: Epoch 14 of 39.54. Elapsed time 1.38 min\n",
      "SLIM_BPR_Recommender: Epoch 15 of 39.54. Elapsed time 1.61 min\n",
      "SLIM_BPR_Recommender: Epoch 16 of 39.54. Elapsed time 1.87 min\n",
      "SLIM_BPR_Recommender: Epoch 17 of 39.54. Elapsed time 2.16 min\n",
      "SLIM_BPR_Recommender: Epoch 18 of 39.54. Elapsed time 2.47 min\n",
      "SLIM_BPR_Recommender: Epoch 19 of 39.54. Elapsed time 2.82 min\n",
      "SLIM_BPR_Recommender: Epoch 20 of 39.54. Elapsed time 3.17 min\n",
      "SLIM_BPR_Recommender: Epoch 21 of 39.54. Elapsed time 3.56 min\n",
      "SLIM_BPR_Recommender: Epoch 22 of 39.54. Elapsed time 3.98 min\n",
      "SLIM_BPR_Recommender: Epoch 23 of 39.54. Elapsed time 4.48 min\n",
      "SLIM_BPR_Recommender: Epoch 24 of 39.54. Elapsed time 5.03 min\n",
      "SLIM_BPR_Recommender: Epoch 25 of 39.54. Elapsed time 5.53 min\n",
      "SLIM_BPR_Recommender: Epoch 26 of 39.54. Elapsed time 6.04 min\n",
      "SLIM_BPR_Recommender: Epoch 27 of 39.54. Elapsed time 6.56 min\n",
      "SLIM_BPR_Recommender: Epoch 28 of 39.54. Elapsed time 7.11 min\n",
      "SLIM_BPR_Recommender: Epoch 29 of 39.54. Elapsed time 7.68 min\n",
      "SLIM_BPR_Recommender: Epoch 30 of 39.54. Elapsed time 8.27 min\n",
      "SLIM_BPR_Recommender: Epoch 31 of 39.54. Elapsed time 8.87 min\n",
      "SLIM_BPR_Recommender: Epoch 32 of 39.54. Elapsed time 9.49 min\n",
      "SLIM_BPR_Recommender: Epoch 33 of 39.54. Elapsed time 10.14 min\n",
      "SLIM_BPR_Recommender: Epoch 34 of 39.54. Elapsed time 10.80 min\n",
      "SLIM_BPR_Recommender: Epoch 35 of 39.54. Elapsed time 11.47 min\n",
      "SLIM_BPR_Recommender: Epoch 36 of 39.54. Elapsed time 12.17 min\n",
      "SLIM_BPR_Recommender: Epoch 37 of 39.54. Elapsed time 12.88 min\n",
      "SLIM_BPR_Recommender: Epoch 38 of 39.54. Elapsed time 13.61 min\n",
      "SLIM_BPR_Recommender: Epoch 39 of 39.54. Elapsed time 14.34 min\n",
      "SLIM_BPR_Recommender: Epoch 40 of 39.54. Elapsed time 15.10 min\n",
      "SLIM_BPR_Recommender: Terminating at epoch 40. Elapsed time 15.37 min\n",
      "Deallocating Cython objects\n",
      "SLIM_BPR_Recommender: Epoch 1 of 39.54. Elapsed time 0.59 sec\n",
      "SLIM_BPR_Recommender: Epoch 2 of 39.54. Elapsed time 1.77 sec\n",
      "SLIM_BPR_Recommender: Epoch 3 of 39.54. Elapsed time 3.68 sec\n",
      "SLIM_BPR_Recommender: Epoch 4 of 39.54. Elapsed time 6.23 sec\n",
      "SLIM_BPR_Recommender: Epoch 5 of 39.54. Elapsed time 9.43 sec\n",
      "SLIM_BPR_Recommender: Epoch 6 of 39.54. Elapsed time 13.45 sec\n",
      "SLIM_BPR_Recommender: Epoch 7 of 39.54. Elapsed time 18.42 sec\n",
      "SLIM_BPR_Recommender: Epoch 8 of 39.54. Elapsed time 24.36 sec\n",
      "SLIM_BPR_Recommender: Epoch 9 of 39.54. Elapsed time 31.32 sec\n",
      "SLIM_BPR_Recommender: Epoch 10 of 39.54. Elapsed time 39.34 sec\n",
      "SLIM_BPR_Recommender: Epoch 11 of 39.54. Elapsed time 48.57 sec\n",
      "SLIM_BPR_Recommender: Epoch 12 of 39.54. Elapsed time 58.95 sec\n",
      "SLIM_BPR_Recommender: Epoch 13 of 39.54. Elapsed time 1.17 min\n",
      "SLIM_BPR_Recommender: Epoch 14 of 39.54. Elapsed time 1.39 min\n",
      "SLIM_BPR_Recommender: Epoch 15 of 39.54. Elapsed time 1.62 min\n",
      "SLIM_BPR_Recommender: Epoch 16 of 39.54. Elapsed time 1.89 min\n",
      "SLIM_BPR_Recommender: Epoch 17 of 39.54. Elapsed time 2.17 min\n",
      "SLIM_BPR_Recommender: Epoch 18 of 39.54. Elapsed time 2.48 min\n",
      "SLIM_BPR_Recommender: Epoch 19 of 39.54. Elapsed time 2.82 min\n",
      "SLIM_BPR_Recommender: Epoch 20 of 39.54. Elapsed time 3.17 min\n",
      "SLIM_BPR_Recommender: Epoch 21 of 39.54. Elapsed time 3.56 min\n",
      "SLIM_BPR_Recommender: Epoch 22 of 39.54. Elapsed time 3.96 min\n",
      "SLIM_BPR_Recommender: Epoch 23 of 39.54. Elapsed time 4.40 min\n",
      "SLIM_BPR_Recommender: Epoch 24 of 39.54. Elapsed time 4.86 min\n",
      "SLIM_BPR_Recommender: Epoch 25 of 39.54. Elapsed time 5.34 min\n",
      "SLIM_BPR_Recommender: Epoch 26 of 39.54. Elapsed time 5.85 min\n",
      "SLIM_BPR_Recommender: Epoch 27 of 39.54. Elapsed time 6.41 min\n",
      "SLIM_BPR_Recommender: Epoch 28 of 39.54. Elapsed time 7.08 min\n",
      "SLIM_BPR_Recommender: Epoch 29 of 39.54. Elapsed time 7.69 min\n",
      "SLIM_BPR_Recommender: Epoch 30 of 39.54. Elapsed time 8.28 min\n",
      "SLIM_BPR_Recommender: Epoch 31 of 39.54. Elapsed time 8.90 min\n",
      "SLIM_BPR_Recommender: Epoch 32 of 39.54. Elapsed time 9.53 min\n",
      "SLIM_BPR_Recommender: Epoch 33 of 39.54. Elapsed time 10.18 min\n",
      "SLIM_BPR_Recommender: Epoch 34 of 39.54. Elapsed time 10.84 min\n",
      "SLIM_BPR_Recommender: Epoch 35 of 39.54. Elapsed time 11.52 min\n",
      "SLIM_BPR_Recommender: Epoch 36 of 39.54. Elapsed time 12.22 min\n",
      "SLIM_BPR_Recommender: Epoch 37 of 39.54. Elapsed time 12.94 min\n",
      "SLIM_BPR_Recommender: Epoch 38 of 39.54. Elapsed time 13.66 min\n",
      "SLIM_BPR_Recommender: Epoch 39 of 39.54. Elapsed time 14.40 min\n",
      "SLIM_BPR_Recommender: Epoch 40 of 39.54. Elapsed time 15.16 min\n",
      "SLIM_BPR_Recommender: Terminating at epoch 40. Elapsed time 15.42 min\n",
      "Deallocating Cython objects\n",
      "SLIM_BPR_Recommender: Epoch 1 of 39.54. Elapsed time 0.65 sec\n",
      "SLIM_BPR_Recommender: Epoch 2 of 39.54. Elapsed time 1.87 sec\n",
      "SLIM_BPR_Recommender: Epoch 3 of 39.54. Elapsed time 3.73 sec\n",
      "SLIM_BPR_Recommender: Epoch 4 of 39.54. Elapsed time 6.32 sec\n",
      "SLIM_BPR_Recommender: Epoch 5 of 39.54. Elapsed time 9.66 sec\n",
      "SLIM_BPR_Recommender: Epoch 6 of 39.54. Elapsed time 13.90 sec\n",
      "SLIM_BPR_Recommender: Epoch 7 of 39.54. Elapsed time 19.04 sec\n",
      "SLIM_BPR_Recommender: Epoch 8 of 39.54. Elapsed time 25.06 sec\n",
      "SLIM_BPR_Recommender: Epoch 9 of 39.54. Elapsed time 32.15 sec\n",
      "SLIM_BPR_Recommender: Epoch 10 of 39.54. Elapsed time 40.50 sec\n",
      "SLIM_BPR_Recommender: Epoch 11 of 39.54. Elapsed time 50.04 sec\n",
      "SLIM_BPR_Recommender: Epoch 12 of 39.54. Elapsed time 1.01 min\n",
      "SLIM_BPR_Recommender: Epoch 13 of 39.54. Elapsed time 1.21 min\n",
      "SLIM_BPR_Recommender: Epoch 14 of 39.54. Elapsed time 1.44 min\n",
      "SLIM_BPR_Recommender: Epoch 15 of 39.54. Elapsed time 1.68 min\n",
      "SLIM_BPR_Recommender: Epoch 16 of 39.54. Elapsed time 1.95 min\n",
      "SLIM_BPR_Recommender: Epoch 17 of 39.54. Elapsed time 2.24 min\n",
      "SLIM_BPR_Recommender: Epoch 18 of 39.54. Elapsed time 2.56 min\n",
      "SLIM_BPR_Recommender: Epoch 19 of 39.54. Elapsed time 2.90 min\n",
      "SLIM_BPR_Recommender: Epoch 20 of 39.54. Elapsed time 3.26 min\n",
      "SLIM_BPR_Recommender: Epoch 21 of 39.54. Elapsed time 3.65 min\n",
      "SLIM_BPR_Recommender: Epoch 22 of 39.54. Elapsed time 4.06 min\n",
      "SLIM_BPR_Recommender: Epoch 23 of 39.54. Elapsed time 4.50 min\n",
      "SLIM_BPR_Recommender: Epoch 24 of 39.54. Elapsed time 4.96 min\n",
      "SLIM_BPR_Recommender: Epoch 25 of 39.54. Elapsed time 5.45 min\n",
      "SLIM_BPR_Recommender: Epoch 26 of 39.54. Elapsed time 5.96 min\n",
      "SLIM_BPR_Recommender: Epoch 27 of 39.54. Elapsed time 6.50 min\n",
      "SLIM_BPR_Recommender: Epoch 28 of 39.54. Elapsed time 7.07 min\n",
      "SLIM_BPR_Recommender: Epoch 29 of 39.54. Elapsed time 7.65 min\n",
      "SLIM_BPR_Recommender: Epoch 30 of 39.54. Elapsed time 8.25 min\n",
      "SLIM_BPR_Recommender: Epoch 31 of 39.54. Elapsed time 8.96 min\n",
      "SLIM_BPR_Recommender: Epoch 32 of 39.54. Elapsed time 9.67 min\n",
      "SLIM_BPR_Recommender: Epoch 33 of 39.54. Elapsed time 10.33 min\n",
      "SLIM_BPR_Recommender: Epoch 34 of 39.54. Elapsed time 11.00 min\n",
      "SLIM_BPR_Recommender: Epoch 35 of 39.54. Elapsed time 11.69 min\n",
      "SLIM_BPR_Recommender: Epoch 36 of 39.54. Elapsed time 12.40 min\n",
      "SLIM_BPR_Recommender: Epoch 37 of 39.54. Elapsed time 13.12 min\n",
      "SLIM_BPR_Recommender: Epoch 38 of 39.54. Elapsed time 13.86 min\n",
      "SLIM_BPR_Recommender: Epoch 39 of 39.54. Elapsed time 14.61 min\n",
      "SLIM_BPR_Recommender: Epoch 40 of 39.54. Elapsed time 15.38 min\n",
      "SLIM_BPR_Recommender: Terminating at epoch 40. Elapsed time 15.65 min\n",
      "Deallocating Cython objects\n",
      "MAP = 0.0564757081848853\n"
     ]
    }
   ],
   "source": [
    "slimBPRCombined_recommenders = []\n",
    "for index in range(len(URMs_train)):\n",
    "    slimBPRCombined_recommenders.append(\n",
    "        SLIM_BPR_Cython(\n",
    "            URM_train=ICMs_combined[index].T,\n",
    "            verbose=False\n",
    "        )\n",
    "    )\n",
    "\n",
    "    slimBPRCombined_recommenders[index].fit(\n",
    "        epochs=39.54,\n",
    "        positive_threshold_BPR=None,\n",
    "        train_with_sparse_weights=True,\n",
    "        symmetric=False,\n",
    "        random_seed=None,\n",
    "        batch_size=393.93324941229486,\n",
    "        lambda_i=0.004419,\n",
    "        lambda_j=0.001592,\n",
    "        learning_rate=1e-4,\n",
    "        topK=int(891.9),\n",
    "        sgd_mode='adagrad',\n",
    "        # gamma=,\n",
    "        # beta_1=,\n",
    "        # beta_2=,\n",
    "    )\n",
    "\n",
    "\n",
    "\n",
    "    slimBPRCombined_recommenders[index].URM_train = URMs_train[index]\n",
    "    slimBPRCombined_recommenders[index].W_sparse = sklearn.preprocessing.normalize(\n",
    "        slimBPRCombined_recommenders[index].W_sparse,\n",
    "        norm='l2',\n",
    "        axis=1,\n",
    "        copy=False,\n",
    "        return_norm=False\n",
    "    )\n",
    "\n",
    "result = evaluator_validation.evaluateRecommender(slimBPRCombined_recommenders)\n",
    "print('MAP = {}'.format(sum(result) / len(result)))"
   ],
   "metadata": {
    "collapsed": false,
    "pycharm": {
     "name": "#%%\n"
    }
   }
  },
  {
   "cell_type": "code",
   "execution_count": 50,
   "outputs": [
    {
     "name": "stdout",
     "output_type": "stream",
     "text": [
      "[0.07616656524308091, 0.07708244936201979, 0.07500440810632926, 0.07342513205544475, 0.07648747527876883]\n",
      "MAP = 0.0756332060091287\n"
     ]
    }
   ],
   "source": [
    "recommenders = []\n",
    "for index in range(len(URMs_train)):\n",
    "    recommenders.append(\n",
    "        GeneralizedSimilarityMergedHybridRecommender(\n",
    "        URM_train=URMs_train[index],\n",
    "        similarityRecommenders=[\n",
    "            p3alpha_recommenders[index],\n",
    "            rp3betaCombined_recommenders[index],\n",
    "            rp3betaCBF_recommenders[index],\n",
    "            itemKNN_recommenders[index],\n",
    "            pureSVD_recommenders[index],\n",
    "            slimBPRCombined_recommenders[index]\n",
    "        ],\n",
    "        verbose=False\n",
    "    )\n",
    "    )\n",
    "\n",
    "    recommenders[index].fit(\n",
    "        topKs=[\n",
    "            738,\n",
    "            796,\n",
    "            896,\n",
    "            1495,\n",
    "            0\n",
    "        ],\n",
    "        alphas=[\n",
    "            0.2,\n",
    "            0.95,\n",
    "            0.8,\n",
    "            0.95,\n",
    "            0.99\n",
    "        ]\n",
    "    )\n",
    "\n",
    "result = evaluator_validation.evaluateRecommender(recommenders)\n",
    "print(result)\n",
    "print('MAP = {}'.format(sum(result) / len(result)))\n",
    "\n",
    "\n",
    "\n",
    "\n"
   ],
   "metadata": {
    "collapsed": false,
    "pycharm": {
     "name": "#%%\n"
    }
   }
  }
 ],
 "metadata": {
  "kernelspec": {
   "name": "recsysframework",
   "language": "python",
   "display_name": "Python (RecSysFramework)"
  },
  "language_info": {
   "codemirror_mode": {
    "name": "ipython",
    "version": 2
   },
   "file_extension": ".py",
   "mimetype": "text/x-python",
   "name": "python",
   "nbconvert_exporter": "python",
   "pygments_lexer": "ipython2",
   "version": "2.7.6"
  }
 },
 "nbformat": 4,
 "nbformat_minor": 0
}