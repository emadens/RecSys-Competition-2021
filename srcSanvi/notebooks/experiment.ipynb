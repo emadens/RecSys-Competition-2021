{
 "cells": [
  {
   "cell_type": "code",
   "execution_count": 5,
   "outputs": [
    {
     "name": "stdout",
     "output_type": "stream",
     "text": [
      "Warning: 82 (1.03 %) of 7947 users have no train items\n",
      "Warning: 2318 (29.17 %) of 7947 users have no sampled items\n"
     ]
    }
   ],
   "source": [
    "from src.Base.Evaluation.Evaluator import EvaluatorHoldout\n",
    "import numpy as np\n",
    "from src.Utils.load_ICM import load_ICM\n",
    "from src.Utils.load_URM import load_URM\n",
    "\n",
    "import pandas as pd  # data processing, CSV file I/O (e.g. pd.read_csv)\n",
    "\n",
    "URM_all = load_URM(\"in/data_train.csv\")\n",
    "ICM_all = load_ICM(\"in/data_ICM_title_abstract.csv\")\n",
    "\n",
    "from src.Data_manager.split_functions.split_train_validation_random_holdout import split_train_in_two_percentage_global_sample\n",
    "\n",
    "URM_train, URM_test = split_train_in_two_percentage_global_sample(URM_all, train_percentage=0.80)"
   ],
   "metadata": {
    "collapsed": false,
    "pycharm": {
     "name": "#%%\n"
    }
   }
  },
  {
   "cell_type": "code",
   "execution_count": 6,
   "outputs": [
    {
     "name": "stdout",
     "output_type": "stream",
     "text": [
      "P3alphaRecommender: URM Detected 82 (1.03 %) cold users.\n",
      "P3alphaRecommender: URM Detected 2424 (9.33 %) cold items.\n",
      "RP3betaCBFRecommender: URM Detected 82 (1.03 %) cold users.\n",
      "RP3betaCBFRecommender: URM Detected 2424 (9.33 %) cold items.\n",
      "RP3betaRecommender: URM Detected 84 (0.30 %) cold users.\n",
      "RP3betaRecommender: URM Detected 2 (0.01 %) cold items.\n",
      "P3alphaRP3betaCBFHybridRecommender: URM Detected 82 (1.03 %) cold users.\n",
      "P3alphaRP3betaCBFHybridRecommender: URM Detected 2424 (9.33 %) cold items.\n",
      "P3alphaRP3betaCBFRP3betaCBFHybridRecommender: URM Detected 82 (1.03 %) cold users.\n",
      "P3alphaRP3betaCBFRP3betaCBFHybridRecommender: URM Detected 2424 (9.33 %) cold items.\n",
      "ItemKNNSimilarityHybridRecommender: URM Detected 82 (1.03 %) cold users.\n",
      "ItemKNNSimilarityHybridRecommender: URM Detected 2424 (9.33 %) cold items.\n",
      "ItemKNNSimilarityHybridRecommender: URM Detected 82 (1.03 %) cold users.\n",
      "ItemKNNSimilarityHybridRecommender: URM Detected 2424 (9.33 %) cold items.\n",
      "TopPopRecommender: URM Detected 82 (1.03 %) cold users.\n",
      "TopPopRecommender: URM Detected 2424 (9.33 %) cold items.\n"
     ]
    }
   ],
   "source": [
    "from src.Utils.ICM_preprocessing import *\n",
    "from src.GraphBased.P3alphaRecommender import P3alphaRecommender\n",
    "from src.GraphBased.RP3betaCBFRecommender import RP3betaCBFRecommender\n",
    "from src.Hybrid.SimilarityMergedHybridRecommender import SimilarityMergedHybridRecommender\n",
    "from src.Hybrid.GeneralizedSimilarityMergedHybridRecommender import GeneralizedSimilarityMergedHybridRecommender\n",
    "from src.Base.NonPersonalizedRecommender import TopPop\n",
    "from src.MatrixFactorization.PureSVDRecommender import PureSVDItemRecommender\n",
    "from src.EASE_R.EASE_R_Recommender import EASE_R_Recommender\n",
    "ICM_combined = combine(ICM=ICM_all, URM = URM_train)\n",
    "\n",
    "p3alpha_recommender = P3alphaRecommender(URM_train=URM_train)\n",
    "p3alpha_recommender.fit(topK=221,alpha=0.5017,implicit=True)\n",
    "\n",
    "rp3betaCBF_recommender = RP3betaCBFRecommender(URM_train=URM_train, ICM_train=ICM_combined)\n",
    "rp3betaCBF_recommender.fit(topK=586, alpha=0.4228, beta=0.1918, implicit=False)\n",
    "\n",
    "p3alpha_featurecombinedrp3beta_recommender = SimilarityMergedHybridRecommender(\n",
    "    URM_train=URM_train,\n",
    "    CFRecommender=p3alpha_recommender,\n",
    "    CBFRecommender=rp3betaCBF_recommender\n",
    ")\n",
    "p3alpha_featurecombinedrp3beta_recommender.fit(topK=355, alpha=0.2222)\n",
    "\n",
    "#pureSVDitem_recommender = PureSVDItemRecommender(URM_train)\n",
    "#pureSVDitem_recommender.fit(num_factors=448,topK=462)\n",
    "\n",
    "# easer_recommender = EASE_R_Recommender(URM_train, sparse_threshold_quota=1.0)\n",
    "# easer_recommender.fit(**{\"l2_norm\": 41476.92126107723, \"topK\": 56})\n",
    "\n",
    "\n",
    "p3alpha_recommender.fit(\n",
    "    topK=int(212.8832860130684),\n",
    "    alpha=0.4729294763382114,\n",
    "    implicit=True\n",
    ")\n",
    "\n",
    "rp3betaCombined_recommender = RP3betaCBFRecommender(\n",
    "    URM_train=URM_train,\n",
    "    ICM_train=ICM_combined,\n",
    "    verbose=False\n",
    ")\n",
    "\n",
    "rp3betaCombined_recommender.fit(\n",
    "    topK=int(525.3588205773788),\n",
    "    alpha=0.42658191175355076,\n",
    "    beta=0.2284685880641364,\n",
    "    implicit=False\n",
    ")\n",
    "\n",
    "rp3betaCBF_recommender = RP3betaCBFRecommender(\n",
    "    URM_train=URM_train,\n",
    "    ICM_train=ICM_all,\n",
    "    verbose=False\n",
    ")\n",
    "\n",
    "rp3betaCBF_recommender.fit(\n",
    "    topK=int(188.6),\n",
    "    alpha=0.1324,\n",
    "    beta=0.981,\n",
    "    implicit=False\n",
    ")\n",
    "\n",
    "p3alpha_featurecombinedrp3beta_rp3betacf_recommender = GeneralizedSimilarityMergedHybridRecommender(\n",
    "    URM_train,\n",
    "    similarityRecommenders=[\n",
    "        p3alpha_recommender,\n",
    "        rp3betaCombined_recommender,\n",
    "        rp3betaCBF_recommender\n",
    "    ]\n",
    ")\n",
    "\n",
    "p3alpha_featurecombinedrp3beta_rp3betacf_recommender.fit(\n",
    "    topKs=[\n",
    "        int(482.3259592432915),\n",
    "        int(872.7)\n",
    "    ],\n",
    "    alphas=[\n",
    "        0.2324902889610141,\n",
    "        0.7876\n",
    "    ]\n",
    ")\n",
    "\n",
    "topPop = TopPop(URM_train)\n",
    "topPop.fit()"
   ],
   "metadata": {
    "collapsed": false,
    "pycharm": {
     "name": "#%%\n"
    }
   }
  },
  {
   "cell_type": "code",
   "execution_count": 7,
   "outputs": [],
   "source": [
    "profile_length = np.ediff1d(URM_train.indptr)\n",
    "block_size = int(len(profile_length)*0.1)\n",
    "sorted_users = np.argsort(profile_length)\n"
   ],
   "metadata": {
    "collapsed": false,
    "pycharm": {
     "name": "#%%\n"
    }
   }
  },
  {
   "cell_type": "code",
   "execution_count": 8,
   "outputs": [
    {
     "name": "stdout",
     "output_type": "stream",
     "text": [
      "Group 0, average p.len 1.15, min 0, max 2\n",
      "Group 1, average p.len 2.00, min 2, max 2\n",
      "Group 2, average p.len 2.65, min 2, max 3\n",
      "Group 3, average p.len 3.22, min 3, max 4\n",
      "Group 4, average p.len 4.13, min 4, max 5\n",
      "Group 5, average p.len 5.39, min 5, max 6\n",
      "Group 6, average p.len 6.87, min 6, max 8\n",
      "Group 7, average p.len 9.73, min 8, max 12\n",
      "Group 8, average p.len 16.34, min 12, max 22\n",
      "Group 9, average p.len 56.34, min 22, max 428\n"
     ]
    }
   ],
   "source": [
    "for group_id in range(0, 10):\n",
    "\n",
    "    start_pos = group_id*block_size\n",
    "    end_pos = min((group_id+1)*block_size, len(profile_length))\n",
    "\n",
    "    users_in_group = sorted_users[start_pos:end_pos]\n",
    "\n",
    "    users_in_group_p_len = profile_length[users_in_group]\n",
    "\n",
    "    print(\"Group {}, average p.len {:.2f}, min {}, max {}\".format(group_id,\n",
    "        users_in_group_p_len.mean(), users_in_group_p_len.min(), users_in_group_p_len.max()))"
   ],
   "metadata": {
    "collapsed": false,
    "pycharm": {
     "name": "#%%\n"
    }
   }
  },
  {
   "cell_type": "code",
   "execution_count": 9,
   "outputs": [
    {
     "name": "stdout",
     "output_type": "stream",
     "text": [
      "Group 0, average p.len 1.15, min 0, max 2\n",
      "EvaluatorHoldout: Ignoring 7153 Users\n",
      "EvaluatorHoldout: Processed 628 ( 100.00% ) in 0.35 sec. Users per second: 1803\n",
      "EvaluatorHoldout: Processed 628 ( 100.00% ) in 0.33 sec. Users per second: 1913\n",
      "EvaluatorHoldout: Processed 628 ( 100.00% ) in 0.32 sec. Users per second: 1943\n",
      "EvaluatorHoldout: Processed 628 ( 100.00% ) in 0.35 sec. Users per second: 1814\n",
      "EvaluatorHoldout: Processed 628 ( 100.00% ) in 0.46 sec. Users per second: 1370\n",
      "Group 1, average p.len 2.00, min 2, max 2\n",
      "EvaluatorHoldout: Ignoring 7153 Users\n",
      "EvaluatorHoldout: Processed 395 ( 100.00% ) in 0.23 sec. Users per second: 1739\n",
      "EvaluatorHoldout: Processed 395 ( 100.00% ) in 0.21 sec. Users per second: 1862\n",
      "EvaluatorHoldout: Processed 395 ( 100.00% ) in 0.22 sec. Users per second: 1786\n",
      "EvaluatorHoldout: Processed 395 ( 100.00% ) in 0.23 sec. Users per second: 1731\n",
      "EvaluatorHoldout: Processed 395 ( 100.00% ) in 0.29 sec. Users per second: 1370\n",
      "Group 2, average p.len 2.65, min 2, max 3\n",
      "EvaluatorHoldout: Ignoring 7153 Users\n",
      "EvaluatorHoldout: Processed 375 ( 100.00% ) in 0.23 sec. Users per second: 1658\n",
      "EvaluatorHoldout: Processed 375 ( 100.00% ) in 0.21 sec. Users per second: 1810\n",
      "EvaluatorHoldout: Processed 375 ( 100.00% ) in 0.21 sec. Users per second: 1751\n",
      "EvaluatorHoldout: Processed 375 ( 100.00% ) in 0.22 sec. Users per second: 1673\n",
      "EvaluatorHoldout: Processed 375 ( 100.00% ) in 0.27 sec. Users per second: 1388\n",
      "Group 3, average p.len 3.22, min 3, max 4\n",
      "EvaluatorHoldout: Ignoring 7153 Users\n",
      "EvaluatorHoldout: Processed 399 ( 100.00% ) in 0.23 sec. Users per second: 1711\n",
      "EvaluatorHoldout: Processed 399 ( 100.00% ) in 0.22 sec. Users per second: 1837\n",
      "EvaluatorHoldout: Processed 399 ( 100.00% ) in 0.22 sec. Users per second: 1846\n",
      "EvaluatorHoldout: Processed 399 ( 100.00% ) in 0.23 sec. Users per second: 1711\n",
      "EvaluatorHoldout: Processed 399 ( 100.00% ) in 0.30 sec. Users per second: 1333\n",
      "Group 4, average p.len 4.13, min 4, max 5\n",
      "EvaluatorHoldout: Ignoring 7153 Users\n",
      "EvaluatorHoldout: Processed 445 ( 100.00% ) in 0.27 sec. Users per second: 1665\n",
      "EvaluatorHoldout: Processed 445 ( 100.00% ) in 0.25 sec. Users per second: 1793\n",
      "EvaluatorHoldout: Processed 445 ( 100.00% ) in 0.24 sec. Users per second: 1853\n",
      "EvaluatorHoldout: Processed 445 ( 100.00% ) in 0.29 sec. Users per second: 1560\n",
      "EvaluatorHoldout: Processed 445 ( 100.00% ) in 0.34 sec. Users per second: 1315\n",
      "Group 5, average p.len 5.39, min 5, max 6\n",
      "EvaluatorHoldout: Ignoring 7153 Users\n",
      "EvaluatorHoldout: Processed 565 ( 100.00% ) in 0.36 sec. Users per second: 1586\n",
      "EvaluatorHoldout: Processed 565 ( 100.00% ) in 0.33 sec. Users per second: 1700\n",
      "EvaluatorHoldout: Processed 565 ( 100.00% ) in 0.32 sec. Users per second: 1787\n",
      "EvaluatorHoldout: Processed 565 ( 100.00% ) in 0.37 sec. Users per second: 1522\n",
      "EvaluatorHoldout: Processed 565 ( 100.00% ) in 0.41 sec. Users per second: 1367\n",
      "Group 6, average p.len 6.87, min 6, max 8\n",
      "EvaluatorHoldout: Ignoring 7153 Users\n",
      "EvaluatorHoldout: Processed 610 ( 100.00% ) in 0.39 sec. Users per second: 1575\n",
      "EvaluatorHoldout: Processed 610 ( 100.00% ) in 0.35 sec. Users per second: 1762\n",
      "EvaluatorHoldout: Processed 610 ( 100.00% ) in 0.35 sec. Users per second: 1767\n",
      "EvaluatorHoldout: Processed 610 ( 100.00% ) in 0.41 sec. Users per second: 1501\n",
      "EvaluatorHoldout: Processed 610 ( 100.00% ) in 0.44 sec. Users per second: 1392\n",
      "Group 7, average p.len 9.73, min 8, max 12\n",
      "EvaluatorHoldout: Ignoring 7153 Users\n",
      "EvaluatorHoldout: Processed 659 ( 100.00% ) in 0.44 sec. Users per second: 1486\n",
      "EvaluatorHoldout: Processed 659 ( 100.00% ) in 0.38 sec. Users per second: 1742\n",
      "EvaluatorHoldout: Processed 659 ( 100.00% ) in 0.39 sec. Users per second: 1693\n",
      "EvaluatorHoldout: Processed 659 ( 100.00% ) in 0.47 sec. Users per second: 1392\n",
      "EvaluatorHoldout: Processed 659 ( 100.00% ) in 0.49 sec. Users per second: 1344\n",
      "Group 8, average p.len 16.34, min 12, max 22\n",
      "EvaluatorHoldout: Ignoring 7153 Users\n",
      "EvaluatorHoldout: Processed 754 ( 100.00% ) in 0.55 sec. Users per second: 1369\n",
      "EvaluatorHoldout: Processed 754 ( 100.00% ) in 0.47 sec. Users per second: 1617\n",
      "EvaluatorHoldout: Processed 754 ( 100.00% ) in 0.47 sec. Users per second: 1616\n",
      "EvaluatorHoldout: Processed 754 ( 100.00% ) in 0.61 sec. Users per second: 1231\n",
      "EvaluatorHoldout: Processed 754 ( 100.00% ) in 0.54 sec. Users per second: 1406\n",
      "Group 9, average p.len 56.34, min 22, max 428\n",
      "EvaluatorHoldout: Ignoring 7153 Users\n",
      "EvaluatorHoldout: Processed 792 ( 100.00% ) in 0.80 sec. Users per second: 993\n",
      "EvaluatorHoldout: Processed 792 ( 100.00% ) in 0.59 sec. Users per second: 1336\n",
      "EvaluatorHoldout: Processed 792 ( 100.00% ) in 0.60 sec. Users per second: 1323\n",
      "EvaluatorHoldout: Processed 792 ( 100.00% ) in 0.87 sec. Users per second: 915\n",
      "EvaluatorHoldout: Processed 792 ( 100.00% ) in 0.57 sec. Users per second: 1386\n"
     ]
    }
   ],
   "source": [
    "MAP_hybrid_per_group = []\n",
    "MAP_super_hyberid_per_group = []\n",
    "MAP_p3alpha_per_group = []\n",
    "MAP_featurecombinationRP3beta_per_group = []\n",
    "MAP_pureSVDitem_per_group = []\n",
    "MAP_easer_per_group = []\n",
    "MAP_topPop_per_group = []\n",
    "cutoff = 10\n",
    "\n",
    "for group_id in range(0, 10):\n",
    "\n",
    "    start_pos = group_id*block_size\n",
    "    end_pos = min((group_id+1)*block_size, len(profile_length))\n",
    "\n",
    "    users_in_group = sorted_users[start_pos:end_pos]\n",
    "\n",
    "    users_in_group_p_len = profile_length[users_in_group]\n",
    "\n",
    "    print(\"Group {}, average p.len {:.2f}, min {}, max {}\".format(group_id,\n",
    "        users_in_group_p_len.mean(), users_in_group_p_len.min(), users_in_group_p_len.max()))\n",
    "\n",
    "\n",
    "    users_not_in_group_flag = np.isin(sorted_users, users_in_group, invert = True)\n",
    "    users_not_in_group = sorted_users[users_not_in_group_flag]\n",
    "\n",
    "    evaluator_test = EvaluatorHoldout(URM_test, cutoff_list=[cutoff], ignore_users = users_not_in_group)\n",
    "\n",
    "\n",
    "    results, _ = evaluator_test.evaluateRecommender(p3alpha_featurecombinedrp3beta_recommender)\n",
    "    MAP_hybrid_per_group.append(results[cutoff][\"MAP\"])\n",
    "\n",
    "    results, _ = evaluator_test.evaluateRecommender(p3alpha_recommender)\n",
    "    MAP_p3alpha_per_group.append(results[cutoff][\"MAP\"])\n",
    "\n",
    "    results, _ = evaluator_test.evaluateRecommender(rp3betaCBF_recommender)\n",
    "    MAP_featurecombinationRP3beta_per_group.append(results[cutoff][\"MAP\"])\n",
    "\n",
    "    #results, _ = evaluator_test.evaluateRecommender(pureSVDitem_recommender)\n",
    "    #MAP_pureSVDitem_per_group.append(results[cutoff][\"MAP\"])\n",
    "\n",
    "    # results, _ = evaluator_test.evaluateRecommender(easer_recommender)\n",
    "    # MAP_easer_per_group.append(results[cutoff][\"MAP\"])\n",
    "\n",
    "    results, _ = evaluator_test.evaluateRecommender(p3alpha_featurecombinedrp3beta_rp3betacf_recommender)\n",
    "    MAP_super_hyberid_per_group.append(results[cutoff][\"MAP\"])\n",
    "\n",
    "    results, _ = evaluator_test.evaluateRecommender(topPop)\n",
    "    MAP_topPop_per_group.append(results[cutoff][\"MAP\"])\n",
    "\n"
   ],
   "metadata": {
    "collapsed": false,
    "pycharm": {
     "name": "#%%\n"
    }
   }
  },
  {
   "cell_type": "code",
   "execution_count": 11,
   "outputs": [
    {
     "data": {
      "text/plain": "<Figure size 432x288 with 1 Axes>",
      "image/png": "[encoded data removed]"
     },
     "metadata": {
      "needs_background": "light"
     },
     "output_type": "display_data"
    }
   ],
   "source": [
    "import matplotlib.pyplot as pyplot\n",
    "%matplotlib inline\n",
    "\n",
    "pyplot.plot(MAP_hybrid_per_group, label=p3alpha_featurecombinedrp3beta_recommender.RECOMMENDER_NAME)\n",
    "pyplot.plot(MAP_p3alpha_per_group, label=p3alpha_recommender.RECOMMENDER_NAME)\n",
    "pyplot.plot(MAP_featurecombinationRP3beta_per_group, label=RP3betaCBFRecommender.RECOMMENDER_NAME)\n",
    "pyplot.plot(MAP_super_hyberid_per_group, label=p3alpha_featurecombinedrp3beta_rp3betacf_recommender.RECOMMENDER_NAME)\n",
    "#pyplot.plot(MAP_pureSVDitem_per_group, label=pureSVDitem_recommender.RECOMMENDER_NAME)\n",
    "# pyplot.plot(MAP_easer_per_group, label=easer_recommender.RECOMMENDER_NAME)\n",
    "pyplot.plot(MAP_topPop_per_group, label=\"topPop\")\n",
    "pyplot.ylabel('MAP')\n",
    "pyplot.xlabel('User Group')\n",
    "pyplot.legend()\n",
    "pyplot.show()\n",
    "\n"
   ],
   "metadata": {
    "collapsed": false,
    "pycharm": {
     "name": "#%%\n"
    }
   }
  },
  {
   "cell_type": "code",
   "execution_count": 2,
   "outputs": [
    {
     "data": {
      "text/plain": "<7947x25975 sparse matrix of type '<class 'numpy.float64'>'\n\twith 90614 stored elements in Compressed Sparse Row format>"
     },
     "execution_count": 2,
     "metadata": {},
     "output_type": "execute_result"
    }
   ],
   "source": [
    "URM_train\n"
   ],
   "metadata": {
    "collapsed": false,
    "pycharm": {
     "name": "#%%\n"
    }
   }
  },
  {
   "cell_type": "code",
   "execution_count": 3,
   "outputs": [
    {
     "name": "stdout",
     "output_type": "stream",
     "text": [
      "RP3betaCBFRecommender: URM Detected 76 (0.96 %) cold users.\n",
      "RP3betaCBFRecommender: URM Detected 2387 (9.19 %) cold items.\n",
      "RP3betaRecommender: URM Detected 78 (0.28 %) cold users.\n",
      "RP3betaRecommender: URM Detected 1 (0.00 %) cold items.\n"
     ]
    },
    {
     "data": {
      "text/plain": "<7947x25975 sparse matrix of type '<class 'numpy.float32'>'\n\twith 79470 stored elements in Compressed Sparse Row format>"
     },
     "execution_count": 3,
     "metadata": {},
     "output_type": "execute_result"
    }
   ],
   "source": [
    "from src.Base.Recommender_utils import ratingMatrixTopK\n",
    "from src.GraphBased.RP3betaCBFRecommender import RP3betaCBFRecommender\n",
    "from src.Utils.ICM_preprocessing import *\n",
    "ICM_combined = combine(ICM=ICM_all, URM = URM_train)\n",
    "rp3betaCBF_recommender = RP3betaCBFRecommender(URM_train=URM_train, ICM_train=ICM_combined)\n",
    "rp3betaCBF_recommender.fit(topK=586, alpha=0.4228, beta=0.1918, implicit=False)\n",
    "\n",
    "URM_new = ratingMatrixTopK(rp3betaCBF_recommender.URM_train.dot(rp3betaCBF_recommender.W_sparse), k=10)\n",
    "\n",
    "URM_new"
   ],
   "metadata": {
    "collapsed": false,
    "pycharm": {
     "name": "#%%\n"
    }
   }
  },
  {
   "cell_type": "code",
   "execution_count": 4,
   "outputs": [],
   "source": [
    "URM_in = rp3betaCBF_recommender.URM_train.dot(rp3betaCBF_recommender.W_sparse)\n",
    "evaluator_test = EvaluatorHoldout(URM_test, cutoff_list=[10])\n",
    "\n",
    "from bayes_opt import BayesianOptimization"
   ],
   "metadata": {
    "collapsed": false,
    "pycharm": {
     "name": "#%%\n"
    }
   }
  },
  {
   "cell_type": "code",
   "execution_count": 6,
   "outputs": [
    {
     "name": "stdout",
     "output_type": "stream",
     "text": [
      "|   iter    |  target   |   alpha   |   beta    |  cfTopK   | matrix... |\n",
      "-------------------------------------------------------------------------\n",
      "EvaluatorHoldout: Processed 5664 ( 100.00% ) in 3.40 sec. Users per second: 1667\n",
      "| \u001B[0m 1       \u001B[0m | \u001B[0m 4.99e-05\u001B[0m | \u001B[0m 0.2776  \u001B[0m | \u001B[0m 0.7966  \u001B[0m | \u001B[0m 132.0   \u001B[0m | \u001B[0m 91.94   \u001B[0m |\n",
      "EvaluatorHoldout: Processed 5664 ( 100.00% ) in 3.36 sec. Users per second: 1685\n",
      "| \u001B[95m 2       \u001B[0m | \u001B[95m 6.52e-05\u001B[0m | \u001B[95m 0.4907  \u001B[0m | \u001B[95m 0.5894  \u001B[0m | \u001B[95m 461.9   \u001B[0m | \u001B[95m 52.32   \u001B[0m |\n",
      "EvaluatorHoldout: Processed 5664 ( 100.00% ) in 3.13 sec. Users per second: 1811\n",
      "| \u001B[0m 3       \u001B[0m | \u001B[0m 3.315e-0\u001B[0m | \u001B[0m 0.3374  \u001B[0m | \u001B[0m 0.2502  \u001B[0m | \u001B[0m 57.64   \u001B[0m | \u001B[0m 74.11   \u001B[0m |\n",
      "EvaluatorHoldout: Processed 5664 ( 100.00% ) in 3.25 sec. Users per second: 1742\n",
      "| \u001B[95m 4       \u001B[0m | \u001B[95m 0.000120\u001B[0m | \u001B[95m 0.453   \u001B[0m | \u001B[95m 0.2266  \u001B[0m | \u001B[95m 529.2   \u001B[0m | \u001B[95m 28.13   \u001B[0m |\n",
      "EvaluatorHoldout: Processed 5664 ( 100.00% ) in 3.29 sec. Users per second: 1724\n",
      "| \u001B[0m 5       \u001B[0m | \u001B[0m 0.000110\u001B[0m | \u001B[0m 0.4314  \u001B[0m | \u001B[0m 0.3369  \u001B[0m | \u001B[0m 381.0   \u001B[0m | \u001B[0m 58.4    \u001B[0m |\n",
      "EvaluatorHoldout: Processed 5664 ( 100.00% ) in 3.25 sec. Users per second: 1741\n",
      "| \u001B[0m 6       \u001B[0m | \u001B[0m 2.768e-0\u001B[0m | \u001B[0m 0.5799  \u001B[0m | \u001B[0m 0.3127  \u001B[0m | \u001B[0m 178.0   \u001B[0m | \u001B[0m 26.11   \u001B[0m |\n"
     ]
    },
    {
     "ename": "KeyboardInterrupt",
     "evalue": "",
     "output_type": "error",
     "traceback": [
      "\u001B[1;31m---------------------------------------------------------------------------\u001B[0m",
      "\u001B[1;31mKeyError\u001B[0m                                  Traceback (most recent call last)",
      "\u001B[1;32m~\\Anaconda3\\envs\\RecSysFramework\\lib\\site-packages\\bayes_opt\\target_space.py\u001B[0m in \u001B[0;36mprobe\u001B[1;34m(self, params)\u001B[0m\n\u001B[0;32m    190\u001B[0m         \u001B[1;32mtry\u001B[0m\u001B[1;33m:\u001B[0m\u001B[1;33m\u001B[0m\u001B[1;33m\u001B[0m\u001B[0m\n\u001B[1;32m--> 191\u001B[1;33m             \u001B[0mtarget\u001B[0m \u001B[1;33m=\u001B[0m \u001B[0mself\u001B[0m\u001B[1;33m.\u001B[0m\u001B[0m_cache\u001B[0m\u001B[1;33m[\u001B[0m\u001B[0m_hashable\u001B[0m\u001B[1;33m(\u001B[0m\u001B[0mx\u001B[0m\u001B[1;33m)\u001B[0m\u001B[1;33m]\u001B[0m\u001B[1;33m\u001B[0m\u001B[1;33m\u001B[0m\u001B[0m\n\u001B[0m\u001B[0;32m    192\u001B[0m         \u001B[1;32mexcept\u001B[0m \u001B[0mKeyError\u001B[0m\u001B[1;33m:\u001B[0m\u001B[1;33m\u001B[0m\u001B[1;33m\u001B[0m\u001B[0m\n",
      "\u001B[1;31mKeyError\u001B[0m: (0.3620511581509873, 0.21533144052273637, 107.71158810874789, 96.42912237772624)",
      "\nDuring handling of the above exception, another exception occurred:\n",
      "\u001B[1;31mKeyboardInterrupt\u001B[0m                         Traceback (most recent call last)",
      "\u001B[1;32m<ipython-input-6-1683341db1fa>\u001B[0m in \u001B[0;36m<module>\u001B[1;34m\u001B[0m\n\u001B[0;32m     31\u001B[0m optimizer.maximize(\n\u001B[0;32m     32\u001B[0m     \u001B[0minit_points\u001B[0m\u001B[1;33m=\u001B[0m\u001B[1;36m10\u001B[0m\u001B[1;33m,\u001B[0m\u001B[1;33m\u001B[0m\u001B[1;33m\u001B[0m\u001B[0m\n\u001B[1;32m---> 33\u001B[1;33m     \u001B[0mn_iter\u001B[0m\u001B[1;33m=\u001B[0m\u001B[1;36m8\u001B[0m\u001B[1;33m,\u001B[0m\u001B[1;33m\u001B[0m\u001B[1;33m\u001B[0m\u001B[0m\n\u001B[0m\u001B[0;32m     34\u001B[0m )\n",
      "\u001B[1;32m~\\Anaconda3\\envs\\RecSysFramework\\lib\\site-packages\\bayes_opt\\bayesian_optimization.py\u001B[0m in \u001B[0;36mmaximize\u001B[1;34m(self, init_points, n_iter, acq, kappa, xi, **gp_params)\u001B[0m\n\u001B[0;32m    172\u001B[0m                 \u001B[0miteration\u001B[0m \u001B[1;33m+=\u001B[0m \u001B[1;36m1\u001B[0m\u001B[1;33m\u001B[0m\u001B[1;33m\u001B[0m\u001B[0m\n\u001B[0;32m    173\u001B[0m \u001B[1;33m\u001B[0m\u001B[0m\n\u001B[1;32m--> 174\u001B[1;33m             \u001B[0mself\u001B[0m\u001B[1;33m.\u001B[0m\u001B[0mprobe\u001B[0m\u001B[1;33m(\u001B[0m\u001B[0mx_probe\u001B[0m\u001B[1;33m,\u001B[0m \u001B[0mlazy\u001B[0m\u001B[1;33m=\u001B[0m\u001B[1;32mFalse\u001B[0m\u001B[1;33m)\u001B[0m\u001B[1;33m\u001B[0m\u001B[1;33m\u001B[0m\u001B[0m\n\u001B[0m\u001B[0;32m    175\u001B[0m \u001B[1;33m\u001B[0m\u001B[0m\n\u001B[0;32m    176\u001B[0m         \u001B[0mself\u001B[0m\u001B[1;33m.\u001B[0m\u001B[0mdispatch\u001B[0m\u001B[1;33m(\u001B[0m\u001B[0mEvents\u001B[0m\u001B[1;33m.\u001B[0m\u001B[0mOPTIMIZATION_END\u001B[0m\u001B[1;33m)\u001B[0m\u001B[1;33m\u001B[0m\u001B[1;33m\u001B[0m\u001B[0m\n",
      "\u001B[1;32m~\\Anaconda3\\envs\\RecSysFramework\\lib\\site-packages\\bayes_opt\\bayesian_optimization.py\u001B[0m in \u001B[0;36mprobe\u001B[1;34m(self, params, lazy)\u001B[0m\n\u001B[0;32m    110\u001B[0m             \u001B[0mself\u001B[0m\u001B[1;33m.\u001B[0m\u001B[0m_queue\u001B[0m\u001B[1;33m.\u001B[0m\u001B[0madd\u001B[0m\u001B[1;33m(\u001B[0m\u001B[0mparams\u001B[0m\u001B[1;33m)\u001B[0m\u001B[1;33m\u001B[0m\u001B[1;33m\u001B[0m\u001B[0m\n\u001B[0;32m    111\u001B[0m         \u001B[1;32melse\u001B[0m\u001B[1;33m:\u001B[0m\u001B[1;33m\u001B[0m\u001B[1;33m\u001B[0m\u001B[0m\n\u001B[1;32m--> 112\u001B[1;33m             \u001B[0mself\u001B[0m\u001B[1;33m.\u001B[0m\u001B[0m_space\u001B[0m\u001B[1;33m.\u001B[0m\u001B[0mprobe\u001B[0m\u001B[1;33m(\u001B[0m\u001B[0mparams\u001B[0m\u001B[1;33m)\u001B[0m\u001B[1;33m\u001B[0m\u001B[1;33m\u001B[0m\u001B[0m\n\u001B[0m\u001B[0;32m    113\u001B[0m             \u001B[0mself\u001B[0m\u001B[1;33m.\u001B[0m\u001B[0mdispatch\u001B[0m\u001B[1;33m(\u001B[0m\u001B[0mEvents\u001B[0m\u001B[1;33m.\u001B[0m\u001B[0mOPTIMIZATION_STEP\u001B[0m\u001B[1;33m)\u001B[0m\u001B[1;33m\u001B[0m\u001B[1;33m\u001B[0m\u001B[0m\n\u001B[0;32m    114\u001B[0m \u001B[1;33m\u001B[0m\u001B[0m\n",
      "\u001B[1;32m~\\Anaconda3\\envs\\RecSysFramework\\lib\\site-packages\\bayes_opt\\target_space.py\u001B[0m in \u001B[0;36mprobe\u001B[1;34m(self, params)\u001B[0m\n\u001B[0;32m    192\u001B[0m         \u001B[1;32mexcept\u001B[0m \u001B[0mKeyError\u001B[0m\u001B[1;33m:\u001B[0m\u001B[1;33m\u001B[0m\u001B[1;33m\u001B[0m\u001B[0m\n\u001B[0;32m    193\u001B[0m             \u001B[0mparams\u001B[0m \u001B[1;33m=\u001B[0m \u001B[0mdict\u001B[0m\u001B[1;33m(\u001B[0m\u001B[0mzip\u001B[0m\u001B[1;33m(\u001B[0m\u001B[0mself\u001B[0m\u001B[1;33m.\u001B[0m\u001B[0m_keys\u001B[0m\u001B[1;33m,\u001B[0m \u001B[0mx\u001B[0m\u001B[1;33m)\u001B[0m\u001B[1;33m)\u001B[0m\u001B[1;33m\u001B[0m\u001B[1;33m\u001B[0m\u001B[0m\n\u001B[1;32m--> 194\u001B[1;33m             \u001B[0mtarget\u001B[0m \u001B[1;33m=\u001B[0m \u001B[0mself\u001B[0m\u001B[1;33m.\u001B[0m\u001B[0mtarget_func\u001B[0m\u001B[1;33m(\u001B[0m\u001B[1;33m**\u001B[0m\u001B[0mparams\u001B[0m\u001B[1;33m)\u001B[0m\u001B[1;33m\u001B[0m\u001B[1;33m\u001B[0m\u001B[0m\n\u001B[0m\u001B[0;32m    195\u001B[0m             \u001B[0mself\u001B[0m\u001B[1;33m.\u001B[0m\u001B[0mregister\u001B[0m\u001B[1;33m(\u001B[0m\u001B[0mx\u001B[0m\u001B[1;33m,\u001B[0m \u001B[0mtarget\u001B[0m\u001B[1;33m)\u001B[0m\u001B[1;33m\u001B[0m\u001B[1;33m\u001B[0m\u001B[0m\n\u001B[0;32m    196\u001B[0m         \u001B[1;32mreturn\u001B[0m \u001B[0mtarget\u001B[0m\u001B[1;33m\u001B[0m\u001B[1;33m\u001B[0m\u001B[0m\n",
      "\u001B[1;32m<ipython-input-6-1683341db1fa>\u001B[0m in \u001B[0;36mBO_func\u001B[1;34m(matrixTopK, alpha, beta, cfTopK)\u001B[0m\n\u001B[0;32m     16\u001B[0m     \u001B[0mURM_new\u001B[0m \u001B[1;33m=\u001B[0m \u001B[0mratingMatrixTopK\u001B[0m\u001B[1;33m(\u001B[0m\u001B[0mURM_in\u001B[0m\u001B[1;33m,\u001B[0m \u001B[0mk\u001B[0m\u001B[1;33m=\u001B[0m\u001B[0mint\u001B[0m\u001B[1;33m(\u001B[0m\u001B[0mmatrixTopK\u001B[0m\u001B[1;33m)\u001B[0m\u001B[1;33m)\u001B[0m\u001B[1;33m\u001B[0m\u001B[1;33m\u001B[0m\u001B[0m\n\u001B[0;32m     17\u001B[0m     \u001B[0mrp3betaCBF_recommender\u001B[0m \u001B[1;33m=\u001B[0m \u001B[0mRP3betaCBFRecommender\u001B[0m\u001B[1;33m(\u001B[0m\u001B[0mURM_train\u001B[0m\u001B[1;33m=\u001B[0m\u001B[0mURM_train\u001B[0m\u001B[1;33m,\u001B[0m \u001B[0mICM_train\u001B[0m\u001B[1;33m=\u001B[0m\u001B[0mURM_new\u001B[0m\u001B[1;33m.\u001B[0m\u001B[0mT\u001B[0m\u001B[1;33m,\u001B[0m \u001B[0mverbose\u001B[0m\u001B[1;33m=\u001B[0m\u001B[1;32mFalse\u001B[0m\u001B[1;33m)\u001B[0m\u001B[1;33m\u001B[0m\u001B[1;33m\u001B[0m\u001B[0m\n\u001B[1;32m---> 18\u001B[1;33m     \u001B[0mrp3betaCBF_recommender\u001B[0m\u001B[1;33m.\u001B[0m\u001B[0mfit\u001B[0m\u001B[1;33m(\u001B[0m\u001B[0malpha\u001B[0m\u001B[1;33m=\u001B[0m\u001B[0malpha\u001B[0m\u001B[1;33m,\u001B[0m \u001B[0mbeta\u001B[0m\u001B[1;33m=\u001B[0m\u001B[0mbeta\u001B[0m\u001B[1;33m,\u001B[0m\u001B[0mtopK\u001B[0m\u001B[1;33m=\u001B[0m\u001B[0mint\u001B[0m\u001B[1;33m(\u001B[0m\u001B[0mcfTopK\u001B[0m\u001B[1;33m)\u001B[0m\u001B[1;33m,\u001B[0m \u001B[0mimplicit\u001B[0m\u001B[1;33m=\u001B[0m\u001B[1;32mFalse\u001B[0m\u001B[1;33m)\u001B[0m\u001B[1;33m\u001B[0m\u001B[1;33m\u001B[0m\u001B[0m\n\u001B[0m\u001B[0;32m     19\u001B[0m     \u001B[0mresult_dict\u001B[0m\u001B[1;33m,\u001B[0m \u001B[0m_\u001B[0m \u001B[1;33m=\u001B[0m \u001B[0mevaluator_test\u001B[0m\u001B[1;33m.\u001B[0m\u001B[0mevaluateRecommender\u001B[0m\u001B[1;33m(\u001B[0m\u001B[0mrp3betaCBF_recommender\u001B[0m\u001B[1;33m)\u001B[0m\u001B[1;33m\u001B[0m\u001B[1;33m\u001B[0m\u001B[0m\n\u001B[0;32m     20\u001B[0m \u001B[1;33m\u001B[0m\u001B[0m\n",
      "\u001B[1;32m~\\Desktop\\RecSysChallenge2020\\src\\GraphBased\\RP3betaCBFRecommender.py\u001B[0m in \u001B[0;36mfit\u001B[1;34m(self, topK, alpha, beta, min_rating, implicit, normalize_similarity)\u001B[0m\n\u001B[0;32m     22\u001B[0m     \u001B[1;32mdef\u001B[0m \u001B[0mfit\u001B[0m\u001B[1;33m(\u001B[0m\u001B[0mself\u001B[0m\u001B[1;33m,\u001B[0m \u001B[0mtopK\u001B[0m\u001B[1;33m=\u001B[0m\u001B[1;36m100\u001B[0m\u001B[1;33m,\u001B[0m \u001B[0malpha\u001B[0m\u001B[1;33m=\u001B[0m\u001B[1;36m1.\u001B[0m\u001B[1;33m,\u001B[0m \u001B[0mbeta\u001B[0m\u001B[1;33m=\u001B[0m\u001B[1;36m0.6\u001B[0m\u001B[1;33m,\u001B[0m \u001B[0mmin_rating\u001B[0m\u001B[1;33m=\u001B[0m\u001B[1;36m0\u001B[0m\u001B[1;33m,\u001B[0m \u001B[0mimplicit\u001B[0m\u001B[1;33m=\u001B[0m\u001B[1;32mFalse\u001B[0m\u001B[1;33m,\u001B[0m \u001B[0mnormalize_similarity\u001B[0m\u001B[1;33m=\u001B[0m\u001B[1;32mFalse\u001B[0m\u001B[1;33m)\u001B[0m\u001B[1;33m:\u001B[0m\u001B[1;33m\u001B[0m\u001B[1;33m\u001B[0m\u001B[0m\n\u001B[0;32m     23\u001B[0m         \u001B[0mcalculator\u001B[0m \u001B[1;33m=\u001B[0m \u001B[0mRP3betaRecommender\u001B[0m\u001B[1;33m(\u001B[0m\u001B[0mself\u001B[0m\u001B[1;33m.\u001B[0m\u001B[0mICM_train\u001B[0m\u001B[1;33m.\u001B[0m\u001B[0mT\u001B[0m\u001B[1;33m,\u001B[0m \u001B[0mverbose\u001B[0m\u001B[1;33m=\u001B[0m\u001B[0mself\u001B[0m\u001B[1;33m.\u001B[0m\u001B[0mverbose\u001B[0m\u001B[1;33m)\u001B[0m\u001B[1;33m\u001B[0m\u001B[1;33m\u001B[0m\u001B[0m\n\u001B[1;32m---> 24\u001B[1;33m         \u001B[0mcalculator\u001B[0m\u001B[1;33m.\u001B[0m\u001B[0mfit\u001B[0m\u001B[1;33m(\u001B[0m\u001B[0mtopK\u001B[0m\u001B[1;33m=\u001B[0m\u001B[0mtopK\u001B[0m\u001B[1;33m,\u001B[0m \u001B[0malpha\u001B[0m\u001B[1;33m=\u001B[0m\u001B[0malpha\u001B[0m\u001B[1;33m,\u001B[0m \u001B[0mbeta\u001B[0m\u001B[1;33m=\u001B[0m\u001B[0mbeta\u001B[0m\u001B[1;33m,\u001B[0m \u001B[0mmin_rating\u001B[0m\u001B[1;33m=\u001B[0m\u001B[0mmin_rating\u001B[0m\u001B[1;33m,\u001B[0m \u001B[0mimplicit\u001B[0m\u001B[1;33m=\u001B[0m\u001B[0mimplicit\u001B[0m\u001B[1;33m,\u001B[0m \u001B[0mnormalize_similarity\u001B[0m\u001B[1;33m=\u001B[0m\u001B[0mnormalize_similarity\u001B[0m\u001B[1;33m)\u001B[0m\u001B[1;33m\u001B[0m\u001B[1;33m\u001B[0m\u001B[0m\n\u001B[0m\u001B[0;32m     25\u001B[0m         \u001B[0mself\u001B[0m\u001B[1;33m.\u001B[0m\u001B[0mW_sparse\u001B[0m \u001B[1;33m=\u001B[0m \u001B[0mcalculator\u001B[0m\u001B[1;33m.\u001B[0m\u001B[0mW_sparse\u001B[0m\u001B[1;33m\u001B[0m\u001B[1;33m\u001B[0m\u001B[0m\n",
      "\u001B[1;32m~\\Desktop\\RecSysChallenge2020\\src\\GraphBased\\RP3betaRecommender.py\u001B[0m in \u001B[0;36mfit\u001B[1;34m(self, alpha, beta, min_rating, topK, implicit, normalize_similarity)\u001B[0m\n\u001B[0;32m    102\u001B[0m                 \u001B[0mrow_data\u001B[0m\u001B[1;33m[\u001B[0m\u001B[0mcurrent_block_start_row\u001B[0m \u001B[1;33m+\u001B[0m \u001B[0mrow_in_block\u001B[0m\u001B[1;33m]\u001B[0m \u001B[1;33m=\u001B[0m \u001B[1;36m0\u001B[0m\u001B[1;33m\u001B[0m\u001B[1;33m\u001B[0m\u001B[0m\n\u001B[0;32m    103\u001B[0m \u001B[1;33m\u001B[0m\u001B[0m\n\u001B[1;32m--> 104\u001B[1;33m                 \u001B[0mbest\u001B[0m \u001B[1;33m=\u001B[0m \u001B[0mrow_data\u001B[0m\u001B[1;33m.\u001B[0m\u001B[0margsort\u001B[0m\u001B[1;33m(\u001B[0m\u001B[1;33m)\u001B[0m\u001B[1;33m[\u001B[0m\u001B[1;33m:\u001B[0m\u001B[1;33m:\u001B[0m\u001B[1;33m-\u001B[0m\u001B[1;36m1\u001B[0m\u001B[1;33m]\u001B[0m\u001B[1;33m[\u001B[0m\u001B[1;33m:\u001B[0m\u001B[0mself\u001B[0m\u001B[1;33m.\u001B[0m\u001B[0mtopK\u001B[0m\u001B[1;33m]\u001B[0m\u001B[1;33m\u001B[0m\u001B[1;33m\u001B[0m\u001B[0m\n\u001B[0m\u001B[0;32m    105\u001B[0m \u001B[1;33m\u001B[0m\u001B[0m\n\u001B[0;32m    106\u001B[0m                 \u001B[0mnotZerosMask\u001B[0m \u001B[1;33m=\u001B[0m \u001B[0mrow_data\u001B[0m\u001B[1;33m[\u001B[0m\u001B[0mbest\u001B[0m\u001B[1;33m]\u001B[0m \u001B[1;33m!=\u001B[0m \u001B[1;36m0.0\u001B[0m\u001B[1;33m\u001B[0m\u001B[1;33m\u001B[0m\u001B[0m\n",
      "\u001B[1;31mKeyboardInterrupt\u001B[0m: "
     ]
    }
   ],
   "source": [
    "tuning_params = {\n",
    "    \"matrixTopK\": (1, 100),\n",
    "    \"alpha\": (0.1, 0.9),\n",
    "    \"beta\": (0.1, 0.9),\n",
    "    \"cfTopK\": (10, 600)\n",
    "}\n",
    "\n",
    "\n",
    "def BO_func(\n",
    "        matrixTopK,\n",
    "        alpha,\n",
    "        beta,\n",
    "        cfTopK\n",
    "):\n",
    "\n",
    "    URM_new = ratingMatrixTopK(URM_in, k=int(matrixTopK))\n",
    "    rp3betaCBF_recommender = RP3betaCBFRecommender(URM_train=URM_train, ICM_train=URM_new.T, verbose=False)\n",
    "    rp3betaCBF_recommender.fit(alpha=alpha, beta=beta,topK=int(cfTopK), implicit=False)\n",
    "    result_dict, _ = evaluator_test.evaluateRecommender(rp3betaCBF_recommender)\n",
    "\n",
    "    return result_dict[10][\"MAP\"]\n",
    "\n",
    "\n",
    "optimizer = BayesianOptimization(\n",
    "    f=BO_func,\n",
    "    pbounds=tuning_params,\n",
    "    verbose=5,\n",
    "    random_state=5,\n",
    ")\n",
    "\n",
    "optimizer.maximize(\n",
    "    init_points=10,\n",
    "    n_iter=8,\n",
    ")"
   ],
   "metadata": {
    "collapsed": false,
    "pycharm": {
     "name": "#%%\n"
    }
   }
  }
 ],
 "metadata": {
  "kernelspec": {
   "name": "recsysframework",
   "language": "python",
   "display_name": "Python (RecSysFramework)"
  },
  "language_info": {
   "codemirror_mode": {
    "name": "ipython",
    "version": 2
   },
   "file_extension": ".py",
   "mimetype": "text/x-python",
   "name": "python",
   "nbconvert_exporter": "python",
   "pygments_lexer": "ipython2",
   "version": "2.7.6"
  }
 },
 "nbformat": 4,
 "nbformat_minor": 0
}