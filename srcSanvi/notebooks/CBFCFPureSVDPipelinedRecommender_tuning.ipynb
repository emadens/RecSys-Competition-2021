{
 "cells": [
  {
   "cell_type": "code",
   "execution_count": 1,
   "metadata": {
    "collapsed": true
   },
   "outputs": [],
   "source": [
    "from src.KNN.ItemKNNCBFCFSimilarityHybridRecommender import ItemKNNCBFCFSimilarityHybridRecommender\n",
    "from src.MatrixFactorization.PureSVDRecommender import PureSVDItemRecommender\n",
    "from src.Base.Evaluation.Evaluator import EvaluatorHoldout\n",
    "from src.Utils.load_URM import load_URM\n",
    "from src.Utils.load_ICM import load_ICM\n",
    "from operator import itemgetter\n",
    "import numpy as np\n",
    "\n",
    "URM_all = load_URM(\"in/data_train.csv\")\n",
    "ICM_all = load_ICM(\"in/data_ICM_title_abstract.csv\")\n",
    "from src.Data_manager.split_functions.split_train_validation_random_holdout import split_train_in_two_percentage_global_sample"
   ]
  },
  {
   "cell_type": "code",
   "execution_count": 2,
   "outputs": [
    {
     "name": "stdout",
     "output_type": "stream",
     "text": [
      "Warning: 64 (0.81 %) of 7947 users have no train items\n",
      "Warning: 2182 (27.46 %) of 7947 users have no sampled items\n"
     ]
    }
   ],
   "source": [
    "URM_train, URM_validation = split_train_in_two_percentage_global_sample(URM_all, train_percentage = 0.80)\n",
    "\n",
    "evaluator_validation = EvaluatorHoldout(URM_validation, cutoff_list=[10])"
   ],
   "metadata": {
    "collapsed": false,
    "pycharm": {
     "name": "#%%\n"
    }
   }
  },
  {
   "cell_type": "code",
   "execution_count": 3,
   "outputs": [
    {
     "name": "stdout",
     "output_type": "stream",
     "text": [
      "ItemKNNCFRecommender: URM Detected 64 (0.81 %) cold users.\n",
      "ItemKNNCFRecommender: URM Detected 2402 (9.25 %) cold items.\n",
      "Similarity column 25975 ( 100 % ), 7273.92 column/sec, elapsed time 0.06 min\n",
      "ItemKNNCBFRecommender: URM Detected 64 (0.81 %) cold users.\n",
      "ItemKNNCBFRecommender: URM Detected 2402 (9.25 %) cold items.\n",
      "Similarity column 25975 ( 100 % ), 4288.34 column/sec, elapsed time 0.10 min\n",
      " ItemKNNCBFCFSimilarityHybridRecommender: URM Detected 64 (0.81 %) cold users.\n",
      " ItemKNNCBFCFSimilarityHybridRecommender: URM Detected 2402 (9.25 %) cold items.\n"
     ]
    }
   ],
   "source": [
    "recommender = ItemKNNCBFCFSimilarityHybridRecommender(\n",
    "    URM_train=URM_train,\n",
    "    ICM_train=ICM_all,\n",
    "    topK_knncf=100,\n",
    "    shrink_knncf=50,\n",
    "    topK_knncbf=500,\n",
    "    shrink_knncbf=10\n",
    ")\n",
    "\n",
    "recommender.fit(topK=500, alpha=0.67)\n",
    "\n",
    "URM_estimated = URM_train.dot(recommender.W_sparse)"
   ],
   "metadata": {
    "collapsed": false,
    "pycharm": {
     "name": "#%%\n"
    }
   }
  },
  {
   "cell_type": "code",
   "execution_count": 4,
   "outputs": [
    {
     "name": "stdout",
     "output_type": "stream",
     "text": [
      "PureSVDItemRecommender: URM Detected 64 (0.81 %) cold users.\n",
      "PureSVDItemRecommender: URM Detected 5 (0.02 %) cold items.\n",
      "PureSVDItemRecommender: Computing SVD decomposition...\n",
      "PureSVDItemRecommender: Computing SVD decomposition... Done!\n",
      "EvaluatorHoldout: Processed 5765 ( 100.00% ) in 3.80 sec. Users per second: 1516\n",
      "('topKo=10', 'num_factors=100', 0.02389131811216023)\n",
      "PureSVDItemRecommender: URM Detected 64 (0.81 %) cold users.\n",
      "PureSVDItemRecommender: URM Detected 5 (0.02 %) cold items.\n",
      "PureSVDItemRecommender: Computing SVD decomposition...\n",
      "PureSVDItemRecommender: Computing SVD decomposition... Done!\n",
      "EvaluatorHoldout: Processed 5765 ( 100.00% ) in 3.75 sec. Users per second: 1538\n",
      "('topKo=10', 'num_factors=500', 0.032895123542012614)\n",
      "PureSVDItemRecommender: URM Detected 64 (0.81 %) cold users.\n",
      "PureSVDItemRecommender: URM Detected 5 (0.02 %) cold items.\n",
      "PureSVDItemRecommender: Computing SVD decomposition...\n",
      "PureSVDItemRecommender: Computing SVD decomposition... Done!\n",
      "EvaluatorHoldout: Processed 5765 ( 100.00% ) in 3.76 sec. Users per second: 1532\n",
      "('topKo=10', 'num_factors=600', 0.03329283377769205)\n",
      "PureSVDItemRecommender: URM Detected 64 (0.81 %) cold users.\n",
      "PureSVDItemRecommender: URM Detected 5 (0.02 %) cold items.\n",
      "PureSVDItemRecommender: Computing SVD decomposition...\n",
      "PureSVDItemRecommender: Computing SVD decomposition... Done!\n",
      "EvaluatorHoldout: Processed 5765 ( 100.00% ) in 3.69 sec. Users per second: 1561\n",
      "('topKo=10', 'num_factors=700', 0.03498179248892704)\n",
      "PureSVDItemRecommender: URM Detected 64 (0.81 %) cold users.\n",
      "PureSVDItemRecommender: URM Detected 5 (0.02 %) cold items.\n",
      "PureSVDItemRecommender: Computing SVD decomposition...\n",
      "PureSVDItemRecommender: Computing SVD decomposition... Done!\n",
      "EvaluatorHoldout: Processed 5765 ( 100.00% ) in 3.87 sec. Users per second: 1490\n",
      "('topKo=10', 'num_factors=800', 0.03453576520068685)\n",
      "PureSVDItemRecommender: URM Detected 64 (0.81 %) cold users.\n",
      "PureSVDItemRecommender: URM Detected 5 (0.02 %) cold items.\n",
      "PureSVDItemRecommender: Computing SVD decomposition...\n",
      "PureSVDItemRecommender: Computing SVD decomposition... Done!\n",
      "EvaluatorHoldout: Processed 5765 ( 100.00% ) in 4.06 sec. Users per second: 1421\n",
      "('topKo=50', 'num_factors=100', 0.026386837758456308)\n",
      "PureSVDItemRecommender: URM Detected 64 (0.81 %) cold users.\n",
      "PureSVDItemRecommender: URM Detected 5 (0.02 %) cold items.\n",
      "PureSVDItemRecommender: Computing SVD decomposition...\n",
      "PureSVDItemRecommender: Computing SVD decomposition... Done!\n",
      "EvaluatorHoldout: Processed 5765 ( 100.00% ) in 4.00 sec. Users per second: 1442\n",
      "('topKo=50', 'num_factors=500', 0.03598446973148576)\n",
      "PureSVDItemRecommender: URM Detected 64 (0.81 %) cold users.\n",
      "PureSVDItemRecommender: URM Detected 5 (0.02 %) cold items.\n",
      "PureSVDItemRecommender: Computing SVD decomposition...\n",
      "PureSVDItemRecommender: Computing SVD decomposition... Done!\n",
      "EvaluatorHoldout: Processed 5765 ( 100.00% ) in 4.00 sec. Users per second: 1440\n",
      "('topKo=50', 'num_factors=600', 0.03696418740796238)\n",
      "PureSVDItemRecommender: URM Detected 64 (0.81 %) cold users.\n",
      "PureSVDItemRecommender: URM Detected 5 (0.02 %) cold items.\n",
      "PureSVDItemRecommender: Computing SVD decomposition...\n",
      "PureSVDItemRecommender: Computing SVD decomposition... Done!\n",
      "EvaluatorHoldout: Processed 5765 ( 100.00% ) in 3.98 sec. Users per second: 1449\n",
      "('topKo=50', 'num_factors=700', 0.03837946295411284)\n",
      "PureSVDItemRecommender: URM Detected 64 (0.81 %) cold users.\n",
      "PureSVDItemRecommender: URM Detected 5 (0.02 %) cold items.\n",
      "PureSVDItemRecommender: Computing SVD decomposition...\n",
      "PureSVDItemRecommender: Computing SVD decomposition... Done!\n",
      "EvaluatorHoldout: Processed 5765 ( 100.00% ) in 4.06 sec. Users per second: 1419\n",
      "('topKo=50', 'num_factors=800', 0.03961045339564618)\n",
      "PureSVDItemRecommender: URM Detected 64 (0.81 %) cold users.\n",
      "PureSVDItemRecommender: URM Detected 5 (0.02 %) cold items.\n",
      "PureSVDItemRecommender: Computing SVD decomposition...\n",
      "PureSVDItemRecommender: Computing SVD decomposition... Done!\n",
      "EvaluatorHoldout: Processed 5765 ( 100.00% ) in 4.21 sec. Users per second: 1371\n",
      "('topKo=100', 'num_factors=100', 0.026767791341264287)\n",
      "PureSVDItemRecommender: URM Detected 64 (0.81 %) cold users.\n",
      "PureSVDItemRecommender: URM Detected 5 (0.02 %) cold items.\n",
      "PureSVDItemRecommender: Computing SVD decomposition...\n",
      "PureSVDItemRecommender: Computing SVD decomposition... Done!\n",
      "EvaluatorHoldout: Processed 5765 ( 100.00% ) in 4.29 sec. Users per second: 1343\n",
      "('topKo=100', 'num_factors=500', 0.03750169732053941)\n",
      "PureSVDItemRecommender: URM Detected 64 (0.81 %) cold users.\n",
      "PureSVDItemRecommender: URM Detected 5 (0.02 %) cold items.\n",
      "PureSVDItemRecommender: Computing SVD decomposition...\n",
      "PureSVDItemRecommender: Computing SVD decomposition... Done!\n",
      "EvaluatorHoldout: Processed 5765 ( 100.00% ) in 4.30 sec. Users per second: 1341\n",
      "('topKo=100', 'num_factors=600', 0.03857461968919133)\n",
      "PureSVDItemRecommender: URM Detected 64 (0.81 %) cold users.\n",
      "PureSVDItemRecommender: URM Detected 5 (0.02 %) cold items.\n",
      "PureSVDItemRecommender: Computing SVD decomposition...\n",
      "PureSVDItemRecommender: Computing SVD decomposition... Done!\n",
      "EvaluatorHoldout: Processed 5765 ( 100.00% ) in 4.28 sec. Users per second: 1346\n",
      "('topKo=100', 'num_factors=700', 0.03898141527016506)\n",
      "PureSVDItemRecommender: URM Detected 64 (0.81 %) cold users.\n",
      "PureSVDItemRecommender: URM Detected 5 (0.02 %) cold items.\n",
      "PureSVDItemRecommender: Computing SVD decomposition...\n",
      "PureSVDItemRecommender: Computing SVD decomposition... Done!\n",
      "EvaluatorHoldout: Processed 5765 ( 100.00% ) in 4.29 sec. Users per second: 1344\n",
      "('topKo=100', 'num_factors=800', 0.0402578418891246)\n",
      "PureSVDItemRecommender: URM Detected 64 (0.81 %) cold users.\n",
      "PureSVDItemRecommender: URM Detected 5 (0.02 %) cold items.\n",
      "PureSVDItemRecommender: Computing SVD decomposition...\n"
     ]
    },
    {
     "ename": "KeyboardInterrupt",
     "evalue": "",
     "output_type": "error",
     "traceback": [
      "\u001B[1;31m---------------------------------------------------------------------------\u001B[0m",
      "\u001B[1;31mKeyboardInterrupt\u001B[0m                         Traceback (most recent call last)",
      "\u001B[1;32m<ipython-input-4-531d1bb8fd8d>\u001B[0m in \u001B[0;36m<module>\u001B[1;34m\u001B[0m\n\u001B[0;32m      6\u001B[0m         recommender.fit(\n\u001B[0;32m      7\u001B[0m             \u001B[0mnum_factors\u001B[0m\u001B[1;33m=\u001B[0m\u001B[0mnum_factors\u001B[0m\u001B[1;33m,\u001B[0m\u001B[1;33m\u001B[0m\u001B[1;33m\u001B[0m\u001B[0m\n\u001B[1;32m----> 8\u001B[1;33m             \u001B[0mtopK\u001B[0m\u001B[1;33m=\u001B[0m \u001B[0mtopK\u001B[0m\u001B[1;33m\u001B[0m\u001B[1;33m\u001B[0m\u001B[0m\n\u001B[0m\u001B[0;32m      9\u001B[0m         )\n\u001B[0;32m     10\u001B[0m \u001B[1;33m\u001B[0m\u001B[0m\n",
      "\u001B[1;32m~\\Desktop\\RecSysChallenge2020\\src\\MatrixFactorization\\PureSVDRecommender.py\u001B[0m in \u001B[0;36mfit\u001B[1;34m(self, num_factors, topK, random_seed)\u001B[0m\n\u001B[0;32m    121\u001B[0m                                       \u001B[0mn_components\u001B[0m\u001B[1;33m=\u001B[0m\u001B[0mnum_factors\u001B[0m\u001B[1;33m,\u001B[0m\u001B[1;33m\u001B[0m\u001B[1;33m\u001B[0m\u001B[0m\n\u001B[0;32m    122\u001B[0m                                       \u001B[1;31m# n_iter=5,\u001B[0m\u001B[1;33m\u001B[0m\u001B[1;33m\u001B[0m\u001B[1;33m\u001B[0m\u001B[0m\n\u001B[1;32m--> 123\u001B[1;33m                                       random_state=random_seed)\n\u001B[0m\u001B[0;32m    124\u001B[0m \u001B[1;33m\u001B[0m\u001B[0m\n\u001B[0;32m    125\u001B[0m         \u001B[1;32mif\u001B[0m \u001B[0mtopK\u001B[0m \u001B[1;32mis\u001B[0m \u001B[1;32mNone\u001B[0m\u001B[1;33m:\u001B[0m\u001B[1;33m\u001B[0m\u001B[1;33m\u001B[0m\u001B[0m\n",
      "\u001B[1;32m~\\Anaconda3\\envs\\RecSysFramework\\lib\\site-packages\\sklearn\\utils\\extmath.py\u001B[0m in \u001B[0;36mrandomized_svd\u001B[1;34m(M, n_components, n_oversamples, n_iter, power_iteration_normalizer, transpose, flip_sign, random_state)\u001B[0m\n\u001B[0;32m    363\u001B[0m \u001B[1;33m\u001B[0m\u001B[0m\n\u001B[0;32m    364\u001B[0m     Q = randomized_range_finder(M, n_random, n_iter,\n\u001B[1;32m--> 365\u001B[1;33m                                 power_iteration_normalizer, random_state)\n\u001B[0m\u001B[0;32m    366\u001B[0m \u001B[1;33m\u001B[0m\u001B[0m\n\u001B[0;32m    367\u001B[0m     \u001B[1;31m# project M to the (k + p) dimensional space using the basis vectors\u001B[0m\u001B[1;33m\u001B[0m\u001B[1;33m\u001B[0m\u001B[1;33m\u001B[0m\u001B[0m\n",
      "\u001B[1;32m~\\Anaconda3\\envs\\RecSysFramework\\lib\\site-packages\\sklearn\\utils\\extmath.py\u001B[0m in \u001B[0;36mrandomized_range_finder\u001B[1;34m(A, size, n_iter, power_iteration_normalizer, random_state)\u001B[0m\n\u001B[0;32m    248\u001B[0m         \u001B[1;32melif\u001B[0m \u001B[0mpower_iteration_normalizer\u001B[0m \u001B[1;33m==\u001B[0m \u001B[1;34m'LU'\u001B[0m\u001B[1;33m:\u001B[0m\u001B[1;33m\u001B[0m\u001B[1;33m\u001B[0m\u001B[0m\n\u001B[0;32m    249\u001B[0m             \u001B[0mQ\u001B[0m\u001B[1;33m,\u001B[0m \u001B[0m_\u001B[0m \u001B[1;33m=\u001B[0m \u001B[0mlinalg\u001B[0m\u001B[1;33m.\u001B[0m\u001B[0mlu\u001B[0m\u001B[1;33m(\u001B[0m\u001B[0msafe_sparse_dot\u001B[0m\u001B[1;33m(\u001B[0m\u001B[0mA\u001B[0m\u001B[1;33m,\u001B[0m \u001B[0mQ\u001B[0m\u001B[1;33m)\u001B[0m\u001B[1;33m,\u001B[0m \u001B[0mpermute_l\u001B[0m\u001B[1;33m=\u001B[0m\u001B[1;32mTrue\u001B[0m\u001B[1;33m)\u001B[0m\u001B[1;33m\u001B[0m\u001B[1;33m\u001B[0m\u001B[0m\n\u001B[1;32m--> 250\u001B[1;33m             \u001B[0mQ\u001B[0m\u001B[1;33m,\u001B[0m \u001B[0m_\u001B[0m \u001B[1;33m=\u001B[0m \u001B[0mlinalg\u001B[0m\u001B[1;33m.\u001B[0m\u001B[0mlu\u001B[0m\u001B[1;33m(\u001B[0m\u001B[0msafe_sparse_dot\u001B[0m\u001B[1;33m(\u001B[0m\u001B[0mA\u001B[0m\u001B[1;33m.\u001B[0m\u001B[0mT\u001B[0m\u001B[1;33m,\u001B[0m \u001B[0mQ\u001B[0m\u001B[1;33m)\u001B[0m\u001B[1;33m,\u001B[0m \u001B[0mpermute_l\u001B[0m\u001B[1;33m=\u001B[0m\u001B[1;32mTrue\u001B[0m\u001B[1;33m)\u001B[0m\u001B[1;33m\u001B[0m\u001B[1;33m\u001B[0m\u001B[0m\n\u001B[0m\u001B[0;32m    251\u001B[0m         \u001B[1;32melif\u001B[0m \u001B[0mpower_iteration_normalizer\u001B[0m \u001B[1;33m==\u001B[0m \u001B[1;34m'QR'\u001B[0m\u001B[1;33m:\u001B[0m\u001B[1;33m\u001B[0m\u001B[1;33m\u001B[0m\u001B[0m\n\u001B[0;32m    252\u001B[0m             \u001B[0mQ\u001B[0m\u001B[1;33m,\u001B[0m \u001B[0m_\u001B[0m \u001B[1;33m=\u001B[0m \u001B[0mlinalg\u001B[0m\u001B[1;33m.\u001B[0m\u001B[0mqr\u001B[0m\u001B[1;33m(\u001B[0m\u001B[0msafe_sparse_dot\u001B[0m\u001B[1;33m(\u001B[0m\u001B[0mA\u001B[0m\u001B[1;33m,\u001B[0m \u001B[0mQ\u001B[0m\u001B[1;33m)\u001B[0m\u001B[1;33m,\u001B[0m \u001B[0mmode\u001B[0m\u001B[1;33m=\u001B[0m\u001B[1;34m'economic'\u001B[0m\u001B[1;33m)\u001B[0m\u001B[1;33m\u001B[0m\u001B[1;33m\u001B[0m\u001B[0m\n",
      "\u001B[1;32m~\\Anaconda3\\envs\\RecSysFramework\\lib\\site-packages\\sklearn\\utils\\extmath.py\u001B[0m in \u001B[0;36msafe_sparse_dot\u001B[1;34m(a, b, dense_output)\u001B[0m\n\u001B[0;32m    166\u001B[0m     \"\"\"\n\u001B[0;32m    167\u001B[0m     \u001B[1;32mif\u001B[0m \u001B[0msparse\u001B[0m\u001B[1;33m.\u001B[0m\u001B[0missparse\u001B[0m\u001B[1;33m(\u001B[0m\u001B[0ma\u001B[0m\u001B[1;33m)\u001B[0m \u001B[1;32mor\u001B[0m \u001B[0msparse\u001B[0m\u001B[1;33m.\u001B[0m\u001B[0missparse\u001B[0m\u001B[1;33m(\u001B[0m\u001B[0mb\u001B[0m\u001B[1;33m)\u001B[0m\u001B[1;33m:\u001B[0m\u001B[1;33m\u001B[0m\u001B[1;33m\u001B[0m\u001B[0m\n\u001B[1;32m--> 168\u001B[1;33m         \u001B[0mret\u001B[0m \u001B[1;33m=\u001B[0m \u001B[0ma\u001B[0m \u001B[1;33m*\u001B[0m \u001B[0mb\u001B[0m\u001B[1;33m\u001B[0m\u001B[1;33m\u001B[0m\u001B[0m\n\u001B[0m\u001B[0;32m    169\u001B[0m         \u001B[1;32mif\u001B[0m \u001B[0mdense_output\u001B[0m \u001B[1;32mand\u001B[0m \u001B[0mhasattr\u001B[0m\u001B[1;33m(\u001B[0m\u001B[0mret\u001B[0m\u001B[1;33m,\u001B[0m \u001B[1;34m\"toarray\"\u001B[0m\u001B[1;33m)\u001B[0m\u001B[1;33m:\u001B[0m\u001B[1;33m\u001B[0m\u001B[1;33m\u001B[0m\u001B[0m\n\u001B[0;32m    170\u001B[0m             \u001B[0mret\u001B[0m \u001B[1;33m=\u001B[0m \u001B[0mret\u001B[0m\u001B[1;33m.\u001B[0m\u001B[0mtoarray\u001B[0m\u001B[1;33m(\u001B[0m\u001B[1;33m)\u001B[0m\u001B[1;33m\u001B[0m\u001B[1;33m\u001B[0m\u001B[0m\n",
      "\u001B[1;32m~\\Anaconda3\\envs\\RecSysFramework\\lib\\site-packages\\scipy\\sparse\\base.py\u001B[0m in \u001B[0;36m__mul__\u001B[1;34m(self, other)\u001B[0m\n\u001B[0;32m    469\u001B[0m                 \u001B[1;32mreturn\u001B[0m \u001B[0mself\u001B[0m\u001B[1;33m.\u001B[0m\u001B[0m_mul_vector\u001B[0m\u001B[1;33m(\u001B[0m\u001B[0mother\u001B[0m\u001B[1;33m.\u001B[0m\u001B[0mravel\u001B[0m\u001B[1;33m(\u001B[0m\u001B[1;33m)\u001B[0m\u001B[1;33m)\u001B[0m\u001B[1;33m.\u001B[0m\u001B[0mreshape\u001B[0m\u001B[1;33m(\u001B[0m\u001B[0mM\u001B[0m\u001B[1;33m,\u001B[0m \u001B[1;36m1\u001B[0m\u001B[1;33m)\u001B[0m\u001B[1;33m\u001B[0m\u001B[1;33m\u001B[0m\u001B[0m\n\u001B[0;32m    470\u001B[0m             \u001B[1;32melif\u001B[0m \u001B[0mother\u001B[0m\u001B[1;33m.\u001B[0m\u001B[0mndim\u001B[0m \u001B[1;33m==\u001B[0m \u001B[1;36m2\u001B[0m \u001B[1;32mand\u001B[0m \u001B[0mother\u001B[0m\u001B[1;33m.\u001B[0m\u001B[0mshape\u001B[0m\u001B[1;33m[\u001B[0m\u001B[1;36m0\u001B[0m\u001B[1;33m]\u001B[0m \u001B[1;33m==\u001B[0m \u001B[0mN\u001B[0m\u001B[1;33m:\u001B[0m\u001B[1;33m\u001B[0m\u001B[1;33m\u001B[0m\u001B[0m\n\u001B[1;32m--> 471\u001B[1;33m                 \u001B[1;32mreturn\u001B[0m \u001B[0mself\u001B[0m\u001B[1;33m.\u001B[0m\u001B[0m_mul_multivector\u001B[0m\u001B[1;33m(\u001B[0m\u001B[0mother\u001B[0m\u001B[1;33m)\u001B[0m\u001B[1;33m\u001B[0m\u001B[1;33m\u001B[0m\u001B[0m\n\u001B[0m\u001B[0;32m    472\u001B[0m \u001B[1;33m\u001B[0m\u001B[0m\n\u001B[0;32m    473\u001B[0m         \u001B[1;32mif\u001B[0m \u001B[0misscalarlike\u001B[0m\u001B[1;33m(\u001B[0m\u001B[0mother\u001B[0m\u001B[1;33m)\u001B[0m\u001B[1;33m:\u001B[0m\u001B[1;33m\u001B[0m\u001B[1;33m\u001B[0m\u001B[0m\n",
      "\u001B[1;32m~\\Anaconda3\\envs\\RecSysFramework\\lib\\site-packages\\scipy\\sparse\\compressed.py\u001B[0m in \u001B[0;36m_mul_multivector\u001B[1;34m(self, other)\u001B[0m\n\u001B[0;32m    488\u001B[0m         \u001B[0mfn\u001B[0m \u001B[1;33m=\u001B[0m \u001B[0mgetattr\u001B[0m\u001B[1;33m(\u001B[0m\u001B[0m_sparsetools\u001B[0m\u001B[1;33m,\u001B[0m \u001B[0mself\u001B[0m\u001B[1;33m.\u001B[0m\u001B[0mformat\u001B[0m \u001B[1;33m+\u001B[0m \u001B[1;34m'_matvecs'\u001B[0m\u001B[1;33m)\u001B[0m\u001B[1;33m\u001B[0m\u001B[1;33m\u001B[0m\u001B[0m\n\u001B[0;32m    489\u001B[0m         fn(M, N, n_vecs, self.indptr, self.indices, self.data,\n\u001B[1;32m--> 490\u001B[1;33m            other.ravel(), result.ravel())\n\u001B[0m\u001B[0;32m    491\u001B[0m \u001B[1;33m\u001B[0m\u001B[0m\n\u001B[0;32m    492\u001B[0m         \u001B[1;32mreturn\u001B[0m \u001B[0mresult\u001B[0m\u001B[1;33m\u001B[0m\u001B[1;33m\u001B[0m\u001B[0m\n",
      "\u001B[1;31mKeyboardInterrupt\u001B[0m: "
     ]
    }
   ],
   "source": [
    "MAP=[]\n",
    "\n",
    "for topK in [10, 50, 100, 200, 500]:\n",
    "    for num_factors in [100, 500, 600, 700, 800]:\n",
    "        recommender = PureSVDItemRecommender(URM_estimated)\n",
    "        recommender.fit(\n",
    "            num_factors=num_factors,\n",
    "            topK= topK\n",
    "        )\n",
    "\n",
    "        recommender.URM_train=URM_train\n",
    "\n",
    "        result_dict, _ = evaluator_validation.evaluateRecommender(recommender)\n",
    "\n",
    "        MAP.append(('topKo={}'.format(topK),'num_factors={}'.format(num_factors),result_dict[10][\"MAP\"]))\n",
    "\n",
    "        print(MAP[-1])\n"
   ],
   "metadata": {
    "collapsed": false,
    "pycharm": {
     "name": "#%%\n"
    }
   }
  },
  {
   "cell_type": "code",
   "execution_count": null,
   "outputs": [],
   "source": [
    "max_tuple = max(MAP, key=itemgetter(2))\n",
    "print('The best combination for the PureSVD recommender is ({},{}), with a MAP = {}'.format(max_tuple[0],max_tuple[1],max_tuple[2]))"
   ],
   "metadata": {
    "collapsed": false,
    "pycharm": {
     "name": "#%%\n"
    }
   }
  },
  {
   "cell_type": "code",
   "execution_count": null,
   "outputs": [],
   "source": [],
   "metadata": {
    "collapsed": false,
    "pycharm": {
     "name": "#%%\n"
    }
   }
  }
 ],
 "metadata": {
  "kernelspec": {
   "name": "recsysframework",
   "language": "python",
   "display_name": "Python (RecSysFramework)"
  },
  "language_info": {
   "codemirror_mode": {
    "name": "ipython",
    "version": 2
   },
   "file_extension": ".py",
   "mimetype": "text/x-python",
   "name": "python",
   "nbconvert_exporter": "python",
   "pygments_lexer": "ipython2",
   "version": "2.7.6"
  }
 },
 "nbformat": 4,
 "nbformat_minor": 0
}