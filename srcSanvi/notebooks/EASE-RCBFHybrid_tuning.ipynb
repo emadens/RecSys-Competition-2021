{
 "cells": [
  {
   "cell_type": "code",
   "execution_count": 22,
   "outputs": [],
   "source": [
    "from src.EASE_R.EASE_R_Recommender import EASE_R_Recommender\n",
    "from src.KNN.ItemKNNCBFRecommender import ItemKNNCBFRecommender\n",
    "from src.KNN.ItemKNNSimilarityHybridRecommender import ItemKNNSimilarityHybridRecommender\n",
    "from src.Base.Evaluation.Evaluator import EvaluatorHoldout\n",
    "from src.Utils.load_URM import load_URM\n",
    "from src.Utils.load_ICM import load_ICM\n",
    "import numpy as np\n",
    "\n",
    "URM_all = load_URM(\"in/data_train.csv\")\n",
    "ICM_all = load_ICM(\"in/data_ICM_title_abstract.csv\")\n",
    "from src.Data_manager.split_functions.split_train_validation_random_holdout import split_train_in_two_percentage_global_sample"
   ],
   "metadata": {
    "collapsed": false,
    "pycharm": {
     "name": "#%%\n"
    }
   }
  },
  {
   "cell_type": "code",
   "execution_count": 23,
   "outputs": [
    {
     "name": "stdout",
     "output_type": "stream",
     "text": [
      "Warning: 69 (0.87 %) of 7947 users have no train items\n",
      "Warning: 2221 (27.95 %) of 7947 users have no sampled items\n"
     ]
    }
   ],
   "source": [
    "URM_train, URM_validation = split_train_in_two_percentage_global_sample(URM_all, train_percentage = 0.80)\n",
    "\n",
    "evaluator_validation = EvaluatorHoldout(URM_validation, cutoff_list=[10])\n"
   ],
   "metadata": {
    "collapsed": false,
    "pycharm": {
     "name": "#%%\n"
    }
   }
  },
  {
   "cell_type": "code",
   "execution_count": 24,
   "outputs": [
    {
     "name": "stdout",
     "output_type": "stream",
     "text": [
      "EASE_R_Recommender: URM Detected 69 (0.87 %) cold users.\n",
      "EASE_R_Recommender: URM Detected 2430 (9.36 %) cold items.\n",
      "EASE_R_Recommender: Fitting model... \n",
      "Similarity column 25975 ( 100 % ), 9164.38 column/sec, elapsed time 0.05 min\n",
      "EASE_R_Recommender: Fitting model... done in 11.56 min\n",
      "EASE_R_Recommender: Detected model matrix to be sparse, changing format.\n",
      "EASE_R_Recommender: Saving model in file 'C:/Users/ALEXDRUSO/Desktop/RecSysChallenge2020/models/EASE_R_Recommender.zip'\n",
      "EASE_R_Recommender: Saving complete\n",
      "EASE_R_Recommender: Loading model from file 'C:/Users/ALEXDRUSO/Desktop/RecSysChallenge2020/models/EASE_R_Recommender.zip'\n",
      "EASE_R_Recommender: Loading complete\n",
      "ItemKNNCBFRecommender: URM Detected 69 (0.87 %) cold users.\n",
      "ItemKNNCBFRecommender: URM Detected 2430 (9.36 %) cold items.\n",
      "Similarity column 25975 ( 100 % ), 4190.27 column/sec, elapsed time 0.10 min\n",
      "ItemKNNSimilarityHybridRecommender: URM Detected 69 (0.87 %) cold users.\n",
      "ItemKNNSimilarityHybridRecommender: URM Detected 2430 (9.36 %) cold items.\n",
      "EvaluatorHoldout: Processed 5726 ( 100.00% ) in 3.15 sec. Users per second: 1820\n",
      "ItemKNNSimilarityHybridRecommender: URM Detected 69 (0.87 %) cold users.\n",
      "ItemKNNSimilarityHybridRecommender: URM Detected 2430 (9.36 %) cold items.\n",
      "EvaluatorHoldout: Processed 5726 ( 100.00% ) in 3.10 sec. Users per second: 1849\n",
      "ItemKNNSimilarityHybridRecommender: URM Detected 69 (0.87 %) cold users.\n",
      "ItemKNNSimilarityHybridRecommender: URM Detected 2430 (9.36 %) cold items.\n",
      "EvaluatorHoldout: Processed 5726 ( 100.00% ) in 3.61 sec. Users per second: 1586\n",
      "ItemKNNSimilarityHybridRecommender: URM Detected 69 (0.87 %) cold users.\n",
      "ItemKNNSimilarityHybridRecommender: URM Detected 2430 (9.36 %) cold items.\n",
      "EvaluatorHoldout: Processed 5726 ( 100.00% ) in 3.09 sec. Users per second: 1852\n",
      "ItemKNNSimilarityHybridRecommender: URM Detected 69 (0.87 %) cold users.\n",
      "ItemKNNSimilarityHybridRecommender: URM Detected 2430 (9.36 %) cold items.\n",
      "EvaluatorHoldout: Processed 5726 ( 100.00% ) in 3.09 sec. Users per second: 1850\n",
      "ItemKNNSimilarityHybridRecommender: URM Detected 69 (0.87 %) cold users.\n",
      "ItemKNNSimilarityHybridRecommender: URM Detected 2430 (9.36 %) cold items.\n",
      "EvaluatorHoldout: Processed 5726 ( 100.00% ) in 3.18 sec. Users per second: 1798\n",
      "ItemKNNSimilarityHybridRecommender: URM Detected 69 (0.87 %) cold users.\n",
      "ItemKNNSimilarityHybridRecommender: URM Detected 2430 (9.36 %) cold items.\n",
      "EvaluatorHoldout: Processed 5726 ( 100.00% ) in 3.08 sec. Users per second: 1861\n",
      "ItemKNNSimilarityHybridRecommender: URM Detected 69 (0.87 %) cold users.\n",
      "ItemKNNSimilarityHybridRecommender: URM Detected 2430 (9.36 %) cold items.\n",
      "EvaluatorHoldout: Processed 5726 ( 100.00% ) in 3.06 sec. Users per second: 1873\n",
      "ItemKNNSimilarityHybridRecommender: URM Detected 69 (0.87 %) cold users.\n",
      "ItemKNNSimilarityHybridRecommender: URM Detected 2430 (9.36 %) cold items.\n",
      "EvaluatorHoldout: Processed 5726 ( 100.00% ) in 3.10 sec. Users per second: 1846\n",
      "ItemKNNSimilarityHybridRecommender: URM Detected 69 (0.87 %) cold users.\n",
      "ItemKNNSimilarityHybridRecommender: URM Detected 2430 (9.36 %) cold items.\n",
      "EvaluatorHoldout: Processed 5726 ( 100.00% ) in 3.23 sec. Users per second: 1772\n",
      "ItemKNNSimilarityHybridRecommender: URM Detected 69 (0.87 %) cold users.\n",
      "ItemKNNSimilarityHybridRecommender: URM Detected 2430 (9.36 %) cold items.\n",
      "EvaluatorHoldout: Processed 5726 ( 100.00% ) in 3.25 sec. Users per second: 1761\n",
      "ItemKNNSimilarityHybridRecommender: URM Detected 69 (0.87 %) cold users.\n",
      "ItemKNNSimilarityHybridRecommender: URM Detected 2430 (9.36 %) cold items.\n",
      "EvaluatorHoldout: Processed 5726 ( 100.00% ) in 3.17 sec. Users per second: 1804\n",
      "ItemKNNSimilarityHybridRecommender: URM Detected 69 (0.87 %) cold users.\n",
      "ItemKNNSimilarityHybridRecommender: URM Detected 2430 (9.36 %) cold items.\n",
      "EvaluatorHoldout: Processed 5726 ( 100.00% ) in 3.20 sec. Users per second: 1791\n",
      "ItemKNNSimilarityHybridRecommender: URM Detected 69 (0.87 %) cold users.\n",
      "ItemKNNSimilarityHybridRecommender: URM Detected 2430 (9.36 %) cold items.\n",
      "EvaluatorHoldout: Processed 5726 ( 100.00% ) in 3.23 sec. Users per second: 1774\n",
      "ItemKNNSimilarityHybridRecommender: URM Detected 69 (0.87 %) cold users.\n",
      "ItemKNNSimilarityHybridRecommender: URM Detected 2430 (9.36 %) cold items.\n",
      "EvaluatorHoldout: Processed 5726 ( 100.00% ) in 3.23 sec. Users per second: 1770\n",
      "ItemKNNSimilarityHybridRecommender: URM Detected 69 (0.87 %) cold users.\n",
      "ItemKNNSimilarityHybridRecommender: URM Detected 2430 (9.36 %) cold items.\n",
      "EvaluatorHoldout: Processed 5726 ( 100.00% ) in 3.19 sec. Users per second: 1792\n",
      "ItemKNNSimilarityHybridRecommender: URM Detected 69 (0.87 %) cold users.\n",
      "ItemKNNSimilarityHybridRecommender: URM Detected 2430 (9.36 %) cold items.\n",
      "EvaluatorHoldout: Processed 5726 ( 100.00% ) in 3.25 sec. Users per second: 1761\n",
      "ItemKNNSimilarityHybridRecommender: URM Detected 69 (0.87 %) cold users.\n",
      "ItemKNNSimilarityHybridRecommender: URM Detected 2430 (9.36 %) cold items.\n",
      "EvaluatorHoldout: Processed 5726 ( 100.00% ) in 3.31 sec. Users per second: 1730\n",
      "ItemKNNSimilarityHybridRecommender: URM Detected 69 (0.87 %) cold users.\n",
      "ItemKNNSimilarityHybridRecommender: URM Detected 2430 (9.36 %) cold items.\n",
      "EvaluatorHoldout: Processed 5726 ( 100.00% ) in 3.29 sec. Users per second: 1738\n",
      "ItemKNNSimilarityHybridRecommender: URM Detected 69 (0.87 %) cold users.\n",
      "ItemKNNSimilarityHybridRecommender: URM Detected 2430 (9.36 %) cold items.\n",
      "EvaluatorHoldout: Processed 5726 ( 100.00% ) in 3.56 sec. Users per second: 1607\n",
      "ItemKNNSimilarityHybridRecommender: URM Detected 69 (0.87 %) cold users.\n",
      "ItemKNNSimilarityHybridRecommender: URM Detected 2430 (9.36 %) cold items.\n",
      "EvaluatorHoldout: Processed 5726 ( 100.00% ) in 3.40 sec. Users per second: 1683\n",
      "ItemKNNSimilarityHybridRecommender: URM Detected 69 (0.87 %) cold users.\n",
      "ItemKNNSimilarityHybridRecommender: URM Detected 2430 (9.36 %) cold items.\n",
      "EvaluatorHoldout: Processed 5726 ( 100.00% ) in 3.40 sec. Users per second: 1686\n",
      "ItemKNNSimilarityHybridRecommender: URM Detected 69 (0.87 %) cold users.\n",
      "ItemKNNSimilarityHybridRecommender: URM Detected 2430 (9.36 %) cold items.\n",
      "EvaluatorHoldout: Processed 5726 ( 100.00% ) in 3.40 sec. Users per second: 1685\n",
      "ItemKNNSimilarityHybridRecommender: URM Detected 69 (0.87 %) cold users.\n",
      "ItemKNNSimilarityHybridRecommender: URM Detected 2430 (9.36 %) cold items.\n",
      "EvaluatorHoldout: Processed 5726 ( 100.00% ) in 3.40 sec. Users per second: 1684\n",
      "ItemKNNSimilarityHybridRecommender: URM Detected 69 (0.87 %) cold users.\n",
      "ItemKNNSimilarityHybridRecommender: URM Detected 2430 (9.36 %) cold items.\n",
      "EvaluatorHoldout: Processed 5726 ( 100.00% ) in 3.38 sec. Users per second: 1693\n",
      "ItemKNNSimilarityHybridRecommender: URM Detected 69 (0.87 %) cold users.\n",
      "ItemKNNSimilarityHybridRecommender: URM Detected 2430 (9.36 %) cold items.\n",
      "EvaluatorHoldout: Processed 5726 ( 100.00% ) in 3.40 sec. Users per second: 1682\n",
      "ItemKNNSimilarityHybridRecommender: URM Detected 69 (0.87 %) cold users.\n",
      "ItemKNNSimilarityHybridRecommender: URM Detected 2430 (9.36 %) cold items.\n",
      "EvaluatorHoldout: Processed 5726 ( 100.00% ) in 3.38 sec. Users per second: 1695\n",
      "ItemKNNSimilarityHybridRecommender: URM Detected 69 (0.87 %) cold users.\n",
      "ItemKNNSimilarityHybridRecommender: URM Detected 2430 (9.36 %) cold items.\n",
      "EvaluatorHoldout: Processed 5726 ( 100.00% ) in 3.42 sec. Users per second: 1673\n",
      "ItemKNNSimilarityHybridRecommender: URM Detected 69 (0.87 %) cold users.\n",
      "ItemKNNSimilarityHybridRecommender: URM Detected 2430 (9.36 %) cold items.\n",
      "EvaluatorHoldout: Processed 5726 ( 100.00% ) in 3.37 sec. Users per second: 1701\n",
      "ItemKNNSimilarityHybridRecommender: URM Detected 69 (0.87 %) cold users.\n",
      "ItemKNNSimilarityHybridRecommender: URM Detected 2430 (9.36 %) cold items.\n",
      "EvaluatorHoldout: Processed 5726 ( 100.00% ) in 3.75 sec. Users per second: 1526\n",
      "ItemKNNSimilarityHybridRecommender: URM Detected 69 (0.87 %) cold users.\n",
      "ItemKNNSimilarityHybridRecommender: URM Detected 2430 (9.36 %) cold items.\n",
      "EvaluatorHoldout: Processed 5726 ( 100.00% ) in 3.34 sec. Users per second: 1714\n",
      "ItemKNNSimilarityHybridRecommender: URM Detected 69 (0.87 %) cold users.\n",
      "ItemKNNSimilarityHybridRecommender: URM Detected 2430 (9.36 %) cold items.\n",
      "EvaluatorHoldout: Processed 5726 ( 100.00% ) in 4.00 sec. Users per second: 1432\n",
      "ItemKNNSimilarityHybridRecommender: URM Detected 69 (0.87 %) cold users.\n",
      "ItemKNNSimilarityHybridRecommender: URM Detected 2430 (9.36 %) cold items.\n",
      "EvaluatorHoldout: Processed 5726 ( 100.00% ) in 3.93 sec. Users per second: 1456\n",
      "ItemKNNSimilarityHybridRecommender: URM Detected 69 (0.87 %) cold users.\n",
      "ItemKNNSimilarityHybridRecommender: URM Detected 2430 (9.36 %) cold items.\n",
      "EvaluatorHoldout: Processed 5726 ( 100.00% ) in 4.05 sec. Users per second: 1413\n",
      "ItemKNNSimilarityHybridRecommender: URM Detected 69 (0.87 %) cold users.\n",
      "ItemKNNSimilarityHybridRecommender: URM Detected 2430 (9.36 %) cold items.\n",
      "EvaluatorHoldout: Processed 5726 ( 100.00% ) in 3.87 sec. Users per second: 1478\n",
      "ItemKNNSimilarityHybridRecommender: URM Detected 69 (0.87 %) cold users.\n",
      "ItemKNNSimilarityHybridRecommender: URM Detected 2430 (9.36 %) cold items.\n",
      "EvaluatorHoldout: Processed 5726 ( 100.00% ) in 3.98 sec. Users per second: 1439\n",
      "ItemKNNSimilarityHybridRecommender: URM Detected 69 (0.87 %) cold users.\n",
      "ItemKNNSimilarityHybridRecommender: URM Detected 2430 (9.36 %) cold items.\n",
      "EvaluatorHoldout: Processed 5726 ( 100.00% ) in 4.00 sec. Users per second: 1433\n",
      "ItemKNNSimilarityHybridRecommender: URM Detected 69 (0.87 %) cold users.\n",
      "ItemKNNSimilarityHybridRecommender: URM Detected 2430 (9.36 %) cold items.\n",
      "EvaluatorHoldout: Processed 5726 ( 100.00% ) in 4.01 sec. Users per second: 1430\n",
      "ItemKNNSimilarityHybridRecommender: URM Detected 69 (0.87 %) cold users.\n",
      "ItemKNNSimilarityHybridRecommender: URM Detected 2430 (9.36 %) cold items.\n",
      "EvaluatorHoldout: Processed 5726 ( 100.00% ) in 3.99 sec. Users per second: 1434\n",
      "ItemKNNSimilarityHybridRecommender: URM Detected 69 (0.87 %) cold users.\n",
      "ItemKNNSimilarityHybridRecommender: URM Detected 2430 (9.36 %) cold items.\n",
      "EvaluatorHoldout: Processed 5726 ( 100.00% ) in 3.94 sec. Users per second: 1452\n",
      "ItemKNNSimilarityHybridRecommender: URM Detected 69 (0.87 %) cold users.\n",
      "ItemKNNSimilarityHybridRecommender: URM Detected 2430 (9.36 %) cold items.\n",
      "EvaluatorHoldout: Processed 5726 ( 100.00% ) in 3.45 sec. Users per second: 1662\n",
      "ItemKNNSimilarityHybridRecommender: URM Detected 69 (0.87 %) cold users.\n",
      "ItemKNNSimilarityHybridRecommender: URM Detected 2430 (9.36 %) cold items.\n",
      "EvaluatorHoldout: Processed 5726 ( 100.00% ) in 3.96 sec. Users per second: 1448\n",
      "ItemKNNSimilarityHybridRecommender: URM Detected 69 (0.87 %) cold users.\n",
      "ItemKNNSimilarityHybridRecommender: URM Detected 2430 (9.36 %) cold items.\n",
      "EvaluatorHoldout: Processed 5726 ( 100.00% ) in 4.03 sec. Users per second: 1419\n",
      "ItemKNNSimilarityHybridRecommender: URM Detected 69 (0.87 %) cold users.\n",
      "ItemKNNSimilarityHybridRecommender: URM Detected 2430 (9.36 %) cold items.\n",
      "EvaluatorHoldout: Processed 5726 ( 100.00% ) in 3.92 sec. Users per second: 1462\n",
      "ItemKNNSimilarityHybridRecommender: URM Detected 69 (0.87 %) cold users.\n",
      "ItemKNNSimilarityHybridRecommender: URM Detected 2430 (9.36 %) cold items.\n",
      "EvaluatorHoldout: Processed 5726 ( 100.00% ) in 3.91 sec. Users per second: 1464\n",
      "ItemKNNSimilarityHybridRecommender: URM Detected 69 (0.87 %) cold users.\n",
      "ItemKNNSimilarityHybridRecommender: URM Detected 2430 (9.36 %) cold items.\n",
      "EvaluatorHoldout: Processed 5726 ( 100.00% ) in 3.94 sec. Users per second: 1455\n",
      "ItemKNNSimilarityHybridRecommender: URM Detected 69 (0.87 %) cold users.\n",
      "ItemKNNSimilarityHybridRecommender: URM Detected 2430 (9.36 %) cold items.\n",
      "EvaluatorHoldout: Processed 5726 ( 100.00% ) in 3.96 sec. Users per second: 1446\n",
      "ItemKNNSimilarityHybridRecommender: URM Detected 69 (0.87 %) cold users.\n",
      "ItemKNNSimilarityHybridRecommender: URM Detected 2430 (9.36 %) cold items.\n",
      "EvaluatorHoldout: Processed 5726 ( 100.00% ) in 4.02 sec. Users per second: 1426\n",
      "ItemKNNSimilarityHybridRecommender: URM Detected 69 (0.87 %) cold users.\n",
      "ItemKNNSimilarityHybridRecommender: URM Detected 2430 (9.36 %) cold items.\n",
      "EvaluatorHoldout: Processed 5726 ( 100.00% ) in 4.00 sec. Users per second: 1430\n",
      "ItemKNNSimilarityHybridRecommender: URM Detected 69 (0.87 %) cold users.\n",
      "ItemKNNSimilarityHybridRecommender: URM Detected 2430 (9.36 %) cold items.\n",
      "EvaluatorHoldout: Processed 5726 ( 100.00% ) in 3.80 sec. Users per second: 1508\n"
     ]
    }
   ],
   "source": [
    "MAP=[]\n",
    "\n",
    "\n",
    "Similarity_1 = EASE_R_Recommender(URM_train=URM_train, sparse_threshold_quota=1.0)\n",
    "\n",
    "Similarity_1.fit(topK=100)\n",
    "\n",
    "Similarity_1.save_model(\n",
    "    folder_path='C:/Users/ALEXDRUSO/Desktop/RecSysChallenge2020/models/',\n",
    "    file_name=EASE_R_Recommender.RECOMMENDER_NAME+'.zip'\n",
    ")\n",
    "\n",
    "Similarity_1.load_model(\n",
    "    folder_path='C:/Users/ALEXDRUSO/Desktop/RecSysChallenge2020/models/',\n",
    "    file_name=EASE_R_Recommender.RECOMMENDER_NAME+'.zip'\n",
    ")\n",
    "Similarity_1 = Similarity_1.W_sparse\n",
    "Similarity_2 = ItemKNNCBFRecommender(URM_train=URM_train, ICM_train=ICM_all)\n",
    "Similarity_2.fit(\n",
    "    topK=100,\n",
    "    shrink=10,\n",
    "    similarity='jaccard'\n",
    ")\n",
    "Similarity_2 = Similarity_2.W_sparse\n",
    "\n",
    "for topK in [10, 50, 100, 200, 500]:\n",
    "    for alpha in np.linspace(start=0.0,stop=1.0,num=10):\n",
    "        recommender = ItemKNNSimilarityHybridRecommender(URM_train=URM_train, Similarity_1=Similarity_1, Similarity_2=Similarity_2)\n",
    "        recommender.fit(topK=topK, alpha=alpha)\n",
    "\n",
    "        result_dict, _ = evaluator_validation.evaluateRecommender(recommender)\n",
    "\n",
    "        MAP.append(('topK={}'.format(topK),'alpha={}'.format(alpha),result_dict[10][\"MAP\"]))\n"
   ],
   "metadata": {
    "collapsed": false,
    "pycharm": {
     "name": "#%%\n"
    }
   }
  },
  {
   "cell_type": "code",
   "execution_count": 25,
   "outputs": [
    {
     "name": "stdout",
     "output_type": "stream",
     "text": [
      "The best combination for the hybrid recommender is (topK=100,alpha=1.0), with a MAP = 0.0527988025506705\n"
     ]
    }
   ],
   "source": [
    "max_tuple = max(MAP, key= lambda x: x[2])\n",
    "print('The best combination for the hybrid recommender is ({},{}), with a MAP = {}'.format(max_tuple[0],max_tuple[1], max_tuple[2]))"
   ],
   "metadata": {
    "collapsed": false,
    "pycharm": {
     "name": "#%%\n"
    }
   }
  }
 ],
 "metadata": {
  "kernelspec": {
   "name": "recsysframework",
   "language": "python",
   "display_name": "Python (RecSysFramework)"
  },
  "language_info": {
   "codemirror_mode": {
    "name": "ipython",
    "version": 2
   },
   "file_extension": ".py",
   "mimetype": "text/x-python",
   "name": "python",
   "nbconvert_exporter": "python",
   "pygments_lexer": "ipython2",
   "version": "2.7.6"
  }
 },
 "nbformat": 4,
 "nbformat_minor": 0
}