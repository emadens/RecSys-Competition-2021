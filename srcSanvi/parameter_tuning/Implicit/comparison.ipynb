{
 "cells": [
  {
   "cell_type": "code",
   "execution_count": 1,
   "outputs": [
    {
     "name": "stdout",
     "output_type": "stream",
     "text": [
      "Warning: 75 (0.94 %) of 7947 users have no train items\n",
      "Warning: 2304 (28.99 %) of 7947 users have no sampled items\n",
      "Warning: 66 (0.83 %) of 7947 users have no train items\n",
      "Warning: 2318 (29.17 %) of 7947 users have no sampled items\n",
      "Warning: 72 (0.91 %) of 7947 users have no train items\n",
      "Warning: 2282 (28.72 %) of 7947 users have no sampled items\n",
      "Warning: 69 (0.87 %) of 7947 users have no train items\n",
      "Warning: 2279 (28.68 %) of 7947 users have no sampled items\n",
      "Warning: 58 (0.73 %) of 7947 users have no train items\n",
      "Warning: 2285 (28.75 %) of 7947 users have no sampled items\n"
     ]
    }
   ],
   "source": [
    "from src.Base.Evaluation.K_Fold_Evaluator import K_Fold_Evaluator_MAP\n",
    "from src.Implicit.FeatureCombinedImplicitALSRecommender import FeatureCombinedImplicitALSRecommender\n",
    "from src.Utils.confidence_scaling import linear_scaling_confidence\n",
    "from src.Utils.load_ICM import load_ICM\n",
    "from src.Utils.load_URM import load_URM\n",
    "import numpy as np\n",
    "\n",
    "URM_all = load_URM(\"../../in/data_train.csv\")\n",
    "ICM_all = load_ICM(\"../../in/data_ICM_title_abstract.csv\")\n",
    "from src.Data_manager.split_functions.split_train_validation_random_holdout import \\\n",
    "    split_train_in_two_percentage_global_sample\n",
    "\n",
    "URMs_train = []\n",
    "URMs_validation = []\n",
    "\n",
    "\n",
    "for k in range(5):\n",
    "    URM_train, URM_validation = split_train_in_two_percentage_global_sample(URM_all, train_percentage=0.80)\n",
    "    URMs_train.append(URM_train)\n",
    "    URMs_validation.append(URM_validation)\n",
    "\n",
    "evaluator_validation = K_Fold_Evaluator_MAP(URMs_validation, cutoff_list=[10], verbose=False)\n"
   ],
   "metadata": {
    "collapsed": false,
    "pycharm": {
     "name": "#%%\n"
    }
   }
  },
  {
   "cell_type": "code",
   "execution_count": null,
   "outputs": [],
   "source": [
    "profile_length = np.ediff1d(URM_train.indptr)\n",
    "block_size = int(len(profile_length)*0.1)\n",
    "sorted_users = np.argsort(profile_length)\n"
   ],
   "metadata": {
    "collapsed": false,
    "pycharm": {
     "name": "#%%\n"
    }
   }
  },
  {
   "cell_type": "code",
   "execution_count": null,
   "outputs": [],
   "source": [
    "for group_id in range(0, 10):\n",
    "\n",
    "    start_pos = group_id*block_size\n",
    "    end_pos = min((group_id+1)*block_size, len(profile_length))\n",
    "\n",
    "    users_in_group = sorted_users[start_pos:end_pos]\n",
    "\n",
    "    users_in_group_p_len = profile_length[users_in_group]\n",
    "\n",
    "    print(\"Group {}, average p.len {:.2f}, min {}, max {}\".format(group_id,\n",
    "        users_in_group_p_len.mean(), users_in_group_p_len.min(), users_in_group_p_len.max()))\n"
   ],
   "metadata": {
    "collapsed": false,
    "pycharm": {
     "name": "#%%\n"
    }
   }
  },
  {
   "cell_type": "code",
   "execution_count": null,
   "outputs": [],
   "source": [
    "recommenders = []\n",
    "\n",
    "for index in range(len(URMs_train)):\n",
    "    recommenders.append(\n",
    "        FeatureCombinedImplicitALSRecommender(\n",
    "            URM_train=URMs_train[index],\n",
    "            ICM_train=ICM_all,\n",
    "            verbose=True\n",
    "        )\n",
    "    )\n",
    "    recommenders[index].fit(\n",
    "        factors=int(factors),\n",
    "        regularization=0.01,\n",
    "        use_gpu=False,\n",
    "        iterations=int(epochs),\n",
    "        num_threads=4,\n",
    "        confidence_scaling=linear_scaling_confidence,\n",
    "        **{\n",
    "            'URM' : {\"alpha\":urm_alpha},\n",
    "            'ICM': {\"alpha\": icm_alpha}\n",
    "        }\n",
    "    )\n",
    "\n",
    "    result = evaluator_validation.evaluateRecommender(recommenders)\n",
    "    results.append(result)\n",
    "    return sum(result) / len(result)"
   ],
   "metadata": {
    "collapsed": false,
    "pycharm": {
     "name": "#%%\n"
    }
   }
  },
  {
   "cell_type": "code",
   "execution_count": null,
   "outputs": [],
   "source": [
    "MAP_hybrid_per_group = []\n",
    "MAP_super_hyberid_per_group = []\n",
    "MAP_p3alpha_per_group = []\n",
    "MAP_featurecombinationRP3beta_per_group = []\n",
    "MAP_pureSVDitem_per_group = []\n",
    "MAP_easer_per_group = []\n",
    "MAP_topPop_per_group = []\n",
    "cutoff = 10\n",
    "\n",
    "for group_id in range(0, 10):\n",
    "\n",
    "    start_pos = group_id*block_size\n",
    "    end_pos = min((group_id+1)*block_size, len(profile_length))\n",
    "\n",
    "    users_in_group = sorted_users[start_pos:end_pos]\n",
    "\n",
    "    users_in_group_p_len = profile_length[users_in_group]\n",
    "\n",
    "    print(\"Group {}, average p.len {:.2f}, min {}, max {}\".format(group_id,\n",
    "        users_in_group_p_len.mean(), users_in_group_p_len.min(), users_in_group_p_len.max()))\n",
    "\n",
    "\n",
    "    users_not_in_group_flag = np.isin(sorted_users, users_in_group, invert = True)\n",
    "    users_not_in_group = sorted_users[users_not_in_group_flag]\n",
    "\n",
    "    evaluator_test = EvaluatorHoldout(URM_test, cutoff_list=[cutoff], ignore_users = users_not_in_group)\n",
    "\n",
    "\n",
    "    results, _ = evaluator_test.evaluateRecommender(p3alpha_featurecombinedrp3beta_recommender)\n",
    "    MAP_hybrid_per_group.append(results[cutoff][\"MAP\"])\n",
    "\n",
    "    results, _ = evaluator_test.evaluateRecommender(p3alpha_recommender)\n",
    "    MAP_p3alpha_per_group.append(results[cutoff][\"MAP\"])\n",
    "\n",
    "    results, _ = evaluator_test.evaluateRecommender(rp3betaCBF_recommender)\n",
    "    MAP_featurecombinationRP3beta_per_group.append(results[cutoff][\"MAP\"])\n",
    "\n",
    "    #results, _ = evaluator_test.evaluateRecommender(pureSVDitem_recommender)\n",
    "    #MAP_pureSVDitem_per_group.append(results[cutoff][\"MAP\"])\n",
    "\n",
    "    # results, _ = evaluator_test.evaluateRecommender(easer_recommender)\n",
    "    # MAP_easer_per_group.append(results[cutoff][\"MAP\"])\n",
    "\n",
    "    results, _ = evaluator_test.evaluateRecommender(p3alpha_featurecombinedrp3beta_rp3betacf_recommender)\n",
    "    MAP_super_hyberid_per_group.append(results[cutoff][\"MAP\"])\n",
    "\n",
    "    results, _ = evaluator_test.evaluateRecommender(topPop)\n",
    "    MAP_topPop_per_group.append(results[cutoff][\"MAP\"])\n",
    "\n"
   ],
   "metadata": {
    "collapsed": false,
    "pycharm": {
     "name": "#%%\n"
    }
   }
  },
  {
   "cell_type": "code",
   "execution_count": null,
   "outputs": [],
   "source": [
    "import matplotlib.pyplot as pyplot\n",
    "%matplotlib inline\n",
    "\n",
    "pyplot.plot(MAP_hybrid_per_group, label=p3alpha_featurecombinedrp3beta_recommender.RECOMMENDER_NAME)\n",
    "pyplot.plot(MAP_p3alpha_per_group, label=p3alpha_recommender.RECOMMENDER_NAME)\n",
    "pyplot.plot(MAP_featurecombinationRP3beta_per_group, label=RP3betaCBFRecommender.RECOMMENDER_NAME)\n",
    "pyplot.plot(MAP_super_hyberid_per_group, label=p3alpha_featurecombinedrp3beta_rp3betacf_recommender.RECOMMENDER_NAME)\n",
    "#pyplot.plot(MAP_pureSVDitem_per_group, label=pureSVDitem_recommender.RECOMMENDER_NAME)\n",
    "# pyplot.plot(MAP_easer_per_group, label=easer_recommender.RECOMMENDER_NAME)\n",
    "pyplot.plot(MAP_topPop_per_group, label=\"topPop\")\n",
    "pyplot.ylabel('MAP')\n",
    "pyplot.xlabel('User Group')\n",
    "pyplot.legend()\n",
    "pyplot.show()\n",
    "\n"
   ],
   "metadata": {
    "collapsed": false,
    "pycharm": {
     "name": "#%%\n"
    }
   }
  },
  {
   "cell_type": "code",
   "execution_count": null,
   "outputs": [],
   "source": [
    "URM_train\n"
   ],
   "metadata": {
    "collapsed": false,
    "pycharm": {
     "name": "#%%\n"
    }
   }
  },
  {
   "cell_type": "code",
   "execution_count": null,
   "outputs": [],
   "source": [
    "from src.Base.Recommender_utils import ratingMatrixTopK\n",
    "from src.GraphBased.RP3betaCBFRecommender import RP3betaCBFRecommender\n",
    "from src.Utils.ICM_preprocessing import *\n",
    "ICM_combined = combine(ICM=ICM_all, URM = URM_train)\n",
    "rp3betaCBF_recommender = RP3betaCBFRecommender(URM_train=URM_train, ICM_train=ICM_combined)\n",
    "rp3betaCBF_recommender.fit(topK=586, alpha=0.4228, beta=0.1918, implicit=False)\n",
    "\n",
    "URM_new = ratingMatrixTopK(rp3betaCBF_recommender.URM_train.dot(rp3betaCBF_recommender.W_sparse), k=10)\n",
    "\n",
    "URM_new"
   ],
   "metadata": {
    "collapsed": false,
    "pycharm": {
     "name": "#%%\n"
    }
   }
  },
  {
   "cell_type": "code",
   "execution_count": null,
   "outputs": [],
   "source": [
    "URM_in = rp3betaCBF_recommender.URM_train.dot(rp3betaCBF_recommender.W_sparse)\n",
    "evaluator_test = EvaluatorHoldout(URM_test, cutoff_list=[10])\n",
    "\n",
    "from bayes_opt import BayesianOptimization"
   ],
   "metadata": {
    "collapsed": false,
    "pycharm": {
     "name": "#%%\n"
    }
   }
  },
  {
   "cell_type": "code",
   "execution_count": null,
   "outputs": [],
   "source": [
    "tuning_params = {\n",
    "    \"matrixTopK\": (1, 100),\n",
    "    \"alpha\": (0.1, 0.9),\n",
    "    \"beta\": (0.1, 0.9),\n",
    "    \"cfTopK\": (10, 600)\n",
    "}\n",
    "\n",
    "\n",
    "def BO_func(\n",
    "        matrixTopK,\n",
    "        alpha,\n",
    "        beta,\n",
    "        cfTopK\n",
    "):\n",
    "\n",
    "    URM_new = ratingMatrixTopK(URM_in, k=int(matrixTopK))\n",
    "    rp3betaCBF_recommender = RP3betaCBFRecommender(URM_train=URM_train, ICM_train=URM_new.T, verbose=False)\n",
    "    rp3betaCBF_recommender.fit(alpha=alpha, beta=beta,topK=int(cfTopK), implicit=False)\n",
    "    result_dict, _ = evaluator_test.evaluateRecommender(rp3betaCBF_recommender)\n",
    "\n",
    "    return result_dict[10][\"MAP\"]\n",
    "\n",
    "\n",
    "optimizer = BayesianOptimization(\n",
    "    f=BO_func,\n",
    "    pbounds=tuning_params,\n",
    "    verbose=5,\n",
    "    random_state=5,\n",
    ")\n",
    "\n",
    "optimizer.maximize(\n",
    "    init_points=10,\n",
    "    n_iter=8,\n",
    ")"
   ],
   "metadata": {
    "collapsed": false,
    "pycharm": {
     "name": "#%%\n"
    }
   }
  }
 ],
 "metadata": {
  "kernelspec": {
   "display_name": "Python 3",
   "language": "python",
   "name": "python3"
  },
  "language_info": {
   "codemirror_mode": {
    "name": "ipython",
    "version": 2
   },
   "file_extension": ".py",
   "mimetype": "text/x-python",
   "name": "python",
   "nbconvert_exporter": "python",
   "pygments_lexer": "ipython2",
   "version": "2.7.6"
  }
 },
 "nbformat": 4,
 "nbformat_minor": 0
}